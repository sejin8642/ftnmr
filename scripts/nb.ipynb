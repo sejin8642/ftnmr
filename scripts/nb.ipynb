{
 "cells": [
  {
   "cell_type": "code",
   "execution_count": 1,
   "metadata": {},
   "outputs": [],
   "source": [
    "%matplotlib inline"
   ]
  },
  {
   "cell_type": "code",
   "execution_count": 2,
   "metadata": {},
   "outputs": [],
   "source": [
    "%load_ext autoreload"
   ]
  },
  {
   "cell_type": "code",
   "execution_count": 3,
   "metadata": {},
   "outputs": [],
   "source": [
    "%autoreload 2"
   ]
  },
  {
   "cell_type": "code",
   "execution_count": 4,
   "metadata": {},
   "outputs": [],
   "source": [
    "import numpy as np\n",
    "import matplotlib.pyplot as plt\n",
    "import scipy"
   ]
  },
  {
   "cell_type": "code",
   "execution_count": 5,
   "metadata": {},
   "outputs": [],
   "source": [
    "from ftnmr import *"
   ]
  },
  {
   "cell_type": "code",
   "execution_count": 6,
   "metadata": {},
   "outputs": [],
   "source": [
    "molecules = []"
   ]
  },
  {
   "cell_type": "markdown",
   "metadata": {},
   "source": [
    "Hydrogens and their frequencies and ratios"
   ]
  },
  {
   "cell_type": "code",
   "execution_count": 16,
   "metadata": {},
   "outputs": [],
   "source": [
    "b0 = 0.30\n",
    "b1 = 0.30001"
   ]
  },
  {
   "cell_type": "code",
   "execution_count": 17,
   "metadata": {},
   "outputs": [
    {
     "data": {
      "text/plain": [
       "False"
      ]
     },
     "execution_count": 17,
     "metadata": {},
     "output_type": "execute_result"
    }
   ],
   "source": [
    "np.isclose(b0, b1)"
   ]
  },
  {
   "cell_type": "code",
   "execution_count": 66,
   "metadata": {},
   "outputs": [],
   "source": [
    "from string import ascii_lowercase as asc"
   ]
  },
  {
   "cell_type": "code",
   "execution_count": 18,
   "metadata": {},
   "outputs": [],
   "source": [
    "from scipy.special import binom"
   ]
  },
  {
   "cell_type": "code",
   "execution_count": 81,
   "metadata": {},
   "outputs": [],
   "source": [
    "A = {\n",
    "    'a':(1, 2.3),\n",
    "    'b':(1, 3.3),\n",
    "    'c':(3, 4.5)}\n",
    "\n",
    "j1 = ('a', 'b', 3.200)\n",
    "j2 = ('b', 'c', 3.200)\n",
    "B = [j1, j2]"
   ]
  },
  {
   "cell_type": "code",
   "execution_count": 88,
   "metadata": {},
   "outputs": [],
   "source": [
    "C = {k:[ (b[2], A[ b[ 1-b.index(k) ] ][0]) for b in B if k in b] for k in A}"
   ]
  },
  {
   "cell_type": "code",
   "execution_count": 87,
   "metadata": {},
   "outputs": [
    {
     "name": "stdout",
     "output_type": "stream",
     "text": [
      "{'a': [], 'b': [], 'c': []}\n"
     ]
    },
    {
     "data": {
      "text/plain": [
       "{'a': [(3.2, 1)], 'b': [(3.2, 1), (3.2, 3)], 'c': [(3.2, 1)]}"
      ]
     },
     "execution_count": 87,
     "metadata": {},
     "output_type": "execute_result"
    }
   ],
   "source": [
    "C = {a:[] for a in A}\n",
    "print(C)\n",
    "\n",
    "for k in A:\n",
    "    for b in B:\n",
    "        if k == b[0]: C[k].append( (b[2], A[b[1]][0]) )\n",
    "        elif k == b[1]: C[k].append( (b[2], A[b[0]][0]) )\n",
    "\n",
    "C"
   ]
  },
  {
   "cell_type": "code",
   "execution_count": 94,
   "metadata": {},
   "outputs": [
    {
     "data": {
      "text/plain": [
       "{'a': ([[-1.6, 1.6]], [[0.5, 0.5]]),\n",
       " 'b': ([[-1.6, 1.6], [-4.800000000000001, -1.6, 1.6, 4.800000000000001]],\n",
       "  [[0.5, 0.5], [0.125, 0.375, 0.375, 0.125]]),\n",
       " 'c': ([[-1.6, 1.6]], [[0.5, 0.5]])}"
      ]
     },
     "execution_count": 94,
     "metadata": {},
     "output_type": "execute_result"
    }
   ],
   "source": [
    "F0 = {k:[ [n*b/2 for n in range(-d, d+1, 2)] for b, d in C[k]] for k in A}\n",
    "F1 = {k:[ [binom(d, x)/pow(2,d) for x in range(0, d+1)] for b, d in C[k]] for k in A}\n",
    "F = {k:(F0[k], F1[k]) for k in A}\n",
    "F"
   ]
  },
  {
   "cell_type": "code",
   "execution_count": 93,
   "metadata": {},
   "outputs": [
    {
     "data": {
      "text/plain": [
       "{'a': ([array([-1.6,  1.6])], [array([0.5, 0.5])]),\n",
       " 'b': ([array([-1.6,  1.6]), array([-4.8, -1.6,  1.6,  4.8])],\n",
       "  [array([0.5, 0.5]), array([0.125, 0.375, 0.375, 0.125])]),\n",
       " 'c': ([array([-1.6,  1.6])], [array([0.5, 0.5])])}"
      ]
     },
     "execution_count": 93,
     "metadata": {},
     "output_type": "execute_result"
    }
   ],
   "source": [
    "F = {a:([], []) for a in A}\n",
    "for k in A:\n",
    "    for b, d in C[k]:\n",
    "        F[k][0].append( np.array([n*b/2 for n in range(-d, d+1, 2)]) )\n",
    "        F[k][1].append( np.array([binom(d, x)/pow(2,d) for x in range(0, d+1)]))\n",
    "\n",
    "F"
   ]
  },
  {
   "cell_type": "code",
   "execution_count": 23,
   "metadata": {},
   "outputs": [
    {
     "data": {
      "text/plain": [
       "{'a': ([[-1.6, 1.6]], [[0.5, 0.5]]),\n",
       " 'b': ([[-1.6, 1.6], [-4.800000000000001, -1.6, 1.6, 4.800000000000001]],\n",
       "  [[0.5, 0.5], [0.125, 0.375, 0.375, 0.125]]),\n",
       " 'c': ([[-1.6, 1.6]], [[0.5, 0.5]])}"
      ]
     },
     "execution_count": 23,
     "metadata": {},
     "output_type": "execute_result"
    }
   ],
   "source": [
    "# this combines the above two cells into one\n",
    "\n",
    "F = {a:([], []) for a in A}\n",
    "\n",
    "for k in A:\n",
    "    for b in B:\n",
    "        if k == b[0]: \n",
    "            d = A[b[1]][0]\n",
    "            F[k][0].append( [n*b[2]/2 for n in range(-d, d+1, 2)] )\n",
    "            F[k][1].append( [binom(d, x)/pow(2,d) for x in range(0, d+1)] )\n",
    "        elif k == b[1]: \n",
    "            d = A[b[0]][0]\n",
    "            F[k][0].append( [n*b[2]/2 for n in range(-d, d+1, 2)] )\n",
    "            F[k][1].append( [binom(d, x)/pow(2,d) for x in range(0, d+1)] )\n",
    "\n",
    "F"
   ]
  },
  {
   "cell_type": "code",
   "execution_count": 26,
   "metadata": {},
   "outputs": [],
   "source": [
    "from itertools import product"
   ]
  },
  {
   "cell_type": "code",
   "execution_count": 101,
   "metadata": {},
   "outputs": [
    {
     "data": {
      "text/plain": [
       "{'a': ([-1.6, 1.6], [0.5, 0.5]),\n",
       " 'b': ([-6.4,\n",
       "   -3.2,\n",
       "   0.0,\n",
       "   3.2000000000000006,\n",
       "   -3.2000000000000006,\n",
       "   0.0,\n",
       "   3.2,\n",
       "   6.4],\n",
       "  [0.0625, 0.1875, 0.1875, 0.0625, 0.0625, 0.1875, 0.1875, 0.0625]),\n",
       " 'c': ([-1.6, 1.6], [0.5, 0.5])}"
      ]
     },
     "execution_count": 101,
     "metadata": {},
     "output_type": "execute_result"
    }
   ],
   "source": [
    "G0 = {k:[ sum(i) for i in product(*F0[k]) ] for k in A}\n",
    "G1 = {k:[ np.prod(i) for i in product(*F1[k]) ] for k in A}\n",
    "H = {k:(G0[k], G1[k]) for k in A}\n",
    "H"
   ]
  },
  {
   "cell_type": "code",
   "execution_count": 102,
   "metadata": {},
   "outputs": [
    {
     "data": {
      "text/plain": [
       "{'a': ([-1.6, 1.6], [0.5, 0.5]),\n",
       " 'b': ([-6.4,\n",
       "   -3.2,\n",
       "   0.0,\n",
       "   3.2000000000000006,\n",
       "   -3.2000000000000006,\n",
       "   0.0,\n",
       "   3.2,\n",
       "   6.4],\n",
       "  [0.0625, 0.1875, 0.1875, 0.0625, 0.0625, 0.1875, 0.1875, 0.0625]),\n",
       " 'c': ([-1.6, 1.6], [0.5, 0.5])}"
      ]
     },
     "execution_count": 102,
     "metadata": {},
     "output_type": "execute_result"
    }
   ],
   "source": [
    "G = {a:([], []) for a in A}\n",
    "\n",
    "for k in A:\n",
    "    for i in product(*F[k][0]):\n",
    "        G[k][0].append(sum(i))\n",
    "        \n",
    "    for i in product(*F[k][1]):\n",
    "        G[k][1].append(np.prod(i))\n",
    "\n",
    "G"
   ]
  },
  {
   "cell_type": "code",
   "execution_count": 103,
   "metadata": {},
   "outputs": [
    {
     "data": {
      "text/plain": [
       "True"
      ]
     },
     "execution_count": 103,
     "metadata": {},
     "output_type": "execute_result"
    }
   ],
   "source": [
    "G == H"
   ]
  },
  {
   "cell_type": "code",
   "execution_count": 116,
   "metadata": {},
   "outputs": [
    {
     "data": {
      "text/plain": [
       "{'a': ([-1.6, 1.6], [0.5, 0.5]),\n",
       " 'b': ([-6.4,\n",
       "   -3.2000000000000006,\n",
       "   -3.2,\n",
       "   0.0,\n",
       "   0.0,\n",
       "   3.2,\n",
       "   3.2000000000000006,\n",
       "   6.4],\n",
       "  [0.0625, 0.0625, 0.1875, 0.1875, 0.1875, 0.1875, 0.0625, 0.0625]),\n",
       " 'c': ([-1.6, 1.6], [0.5, 0.5])}"
      ]
     },
     "execution_count": 116,
     "metadata": {},
     "output_type": "execute_result"
    }
   ],
   "source": [
    "J0 = {k:[G0[k][n] for n in np.argsort(G0[k])] for k in A}\n",
    "J1 = {k:[G1[k][n] for n in np.argsort(G0[k])] for k in A}\n",
    "J = {k:(J0[k], J1[k]) for k in A}\n",
    "J"
   ]
  },
  {
   "cell_type": "code",
   "execution_count": 117,
   "metadata": {},
   "outputs": [
    {
     "data": {
      "text/plain": [
       "{'a': ([-1.6, 1.6], [0.5, 0.5]),\n",
       " 'b': ([-6.4,\n",
       "   -3.2000000000000006,\n",
       "   -3.2,\n",
       "   0.0,\n",
       "   0.0,\n",
       "   3.2,\n",
       "   3.2000000000000006,\n",
       "   6.4],\n",
       "  [0.0625, 0.0625, 0.1875, 0.1875, 0.1875, 0.1875, 0.0625, 0.0625]),\n",
       " 'c': ([-1.6, 1.6], [0.5, 0.5])}"
      ]
     },
     "execution_count": 117,
     "metadata": {},
     "output_type": "execute_result"
    }
   ],
   "source": [
    "I = {k:([],[]) for k in A}\n",
    "\n",
    "for k in A:\n",
    "    for n in np.argsort(H[k][0]):\n",
    "        I[k][0].append(H[k][0][n])\n",
    "        I[k][1].append(H[k][1][n])\n",
    "\n",
    "I"
   ]
  },
  {
   "cell_type": "code",
   "execution_count": 118,
   "metadata": {},
   "outputs": [
    {
     "data": {
      "text/plain": [
       "True"
      ]
     },
     "execution_count": 118,
     "metadata": {},
     "output_type": "execute_result"
    }
   ],
   "source": [
    "J == I"
   ]
  },
  {
   "cell_type": "code",
   "execution_count": 113,
   "metadata": {},
   "outputs": [
    {
     "data": {
      "text/plain": [
       "True"
      ]
     },
     "execution_count": 113,
     "metadata": {},
     "output_type": "execute_result"
    }
   ],
   "source": [
    "np.isclose(1.23452, 1.23453)"
   ]
  },
  {
   "cell_type": "code",
   "execution_count": null,
   "metadata": {},
   "outputs": [],
   "source": [
    "K0 = {k:[ for i in range(1, len(J0[k])) if not np.isclose(, J0[k])] for k in A}\n",
    "K1 = {k:[ for i in range(1, len(J0[k])) if not np.isclose(, J0[k])] for k in A}"
   ]
  },
  {
   "cell_type": "code",
   "execution_count": 122,
   "metadata": {},
   "outputs": [],
   "source": [
    "K = {k:([J0[k][0]],[J1[k][0]]) for k in A}\n",
    "\n",
    "for k in A:\n",
    "    for i in range(1, len(J[k][0])):\n",
    "        if np.isclose(K[k][0][-1], J[k][0][i]):\n",
    "            K[k][1][-1] += J[k][1][i]\n",
    "        else:\n",
    "            K[k][0].append(J[k][0][i])\n",
    "            K[k][1].append(J[k][1][i])"
   ]
  },
  {
   "cell_type": "code",
   "execution_count": 123,
   "metadata": {},
   "outputs": [
    {
     "data": {
      "text/plain": [
       "{'a': ([-1.6, 1.6], [0.5, 0.5]),\n",
       " 'b': ([-6.4, -3.2000000000000006, 0.0, 3.2, 6.4],\n",
       "  [0.0625, 0.25, 0.375, 0.25, 0.0625]),\n",
       " 'c': ([-1.6, 1.6], [0.5, 0.5])}"
      ]
     },
     "execution_count": 123,
     "metadata": {},
     "output_type": "execute_result"
    }
   ],
   "source": [
    "K"
   ]
  },
  {
   "cell_type": "code",
   "execution_count": 109,
   "metadata": {},
   "outputs": [
    {
     "data": {
      "text/plain": [
       "1.0"
      ]
     },
     "execution_count": 109,
     "metadata": {},
     "output_type": "execute_result"
    }
   ],
   "source": [
    "sum(K['b'][1])"
   ]
  },
  {
   "cell_type": "markdown",
   "metadata": {},
   "source": [
    "Molecule construction"
   ]
  },
  {
   "cell_type": "code",
   "execution_count": 213,
   "metadata": {},
   "outputs": [],
   "source": [
    "a = ('a', 6, 2.3)\n",
    "b = ('b', 4, 3.4)\n",
    "c = ('c', 2, 4.5)\n",
    "A = [a, b, c]\n",
    "\n",
    "j1 = ('a', 'b', 3.300)\n",
    "j2 = ('b', 'c', 3.000)\n",
    "B = [j1, j2]"
   ]
  },
  {
   "cell_type": "code",
   "execution_count": 222,
   "metadata": {},
   "outputs": [],
   "source": [
    "class molecule():\n",
    "    def __init__(\n",
    "        self,\n",
    "        A: list,\n",
    "        B: list):\n",
    "        self.A = A\n",
    "        self.B = B"
   ]
  },
  {
   "cell_type": "code",
   "execution_count": 223,
   "metadata": {},
   "outputs": [],
   "source": [
    "a = molecule(A=[1, 2, 3], B=2)"
   ]
  },
  {
   "cell_type": "code",
   "execution_count": 230,
   "metadata": {},
   "outputs": [],
   "source": [
    "def add(x: int, y: int) -> int:\n",
    "    return x + y"
   ]
  },
  {
   "cell_type": "code",
   "execution_count": 231,
   "metadata": {},
   "outputs": [
    {
     "data": {
      "text/plain": [
       "6"
      ]
     },
     "execution_count": 231,
     "metadata": {},
     "output_type": "execute_result"
    }
   ],
   "source": [
    "add(2, 4)"
   ]
  },
  {
   "cell_type": "code",
   "execution_count": 234,
   "metadata": {},
   "outputs": [],
   "source": [
    "num: str = add('bab', 'o')"
   ]
  },
  {
   "cell_type": "code",
   "execution_count": 235,
   "metadata": {},
   "outputs": [
    {
     "data": {
      "text/plain": [
       "'babo'"
      ]
     },
     "execution_count": 235,
     "metadata": {},
     "output_type": "execute_result"
    }
   ],
   "source": [
    "num"
   ]
  },
  {
   "cell_type": "code",
   "execution_count": null,
   "metadata": {},
   "outputs": [],
   "source": []
  }
 ],
 "metadata": {
  "kernelspec": {
   "display_name": "Python 3",
   "language": "python",
   "name": "python3"
  },
  "language_info": {
   "codemirror_mode": {
    "name": "ipython",
    "version": 3
   },
   "file_extension": ".py",
   "mimetype": "text/x-python",
   "name": "python",
   "nbconvert_exporter": "python",
   "pygments_lexer": "ipython3",
   "version": "3.8.3"
  }
 },
 "nbformat": 4,
 "nbformat_minor": 4
}
