{
 "cells": [
  {
   "cell_type": "code",
   "execution_count": 4,
   "metadata": {},
   "outputs": [],
   "source": [
    "%matplotlib inline"
   ]
  },
  {
   "cell_type": "code",
   "execution_count": 5,
   "metadata": {},
   "outputs": [
    {
     "name": "stdout",
     "output_type": "stream",
     "text": [
      "The autoreload extension is already loaded. To reload it, use:\n",
      "  %reload_ext autoreload\n"
     ]
    }
   ],
   "source": [
    "%load_ext autoreload"
   ]
  },
  {
   "cell_type": "code",
   "execution_count": 6,
   "metadata": {},
   "outputs": [],
   "source": [
    "%autoreload 2"
   ]
  },
  {
   "cell_type": "code",
   "execution_count": 7,
   "metadata": {},
   "outputs": [],
   "source": [
    "import numpy as np\n",
    "import matplotlib.pyplot as plt\n",
    "import scipy"
   ]
  },
  {
   "cell_type": "code",
   "execution_count": 8,
   "metadata": {},
   "outputs": [],
   "source": [
    "from ftnmr import *"
   ]
  },
  {
   "cell_type": "markdown",
   "metadata": {},
   "source": [
    "Hydrogens and their frequencies and ratios"
   ]
  },
  {
   "cell_type": "code",
   "execution_count": 9,
   "metadata": {},
   "outputs": [],
   "source": [
    "from string import ascii_lowercase as asc\n",
    "from scipy.special import binom\n",
    "from itertools import product"
   ]
  },
  {
   "cell_type": "code",
   "execution_count": 10,
   "metadata": {},
   "outputs": [],
   "source": [
    "gamma = 267.52218744*pow(10, 6)\n",
    "B = 10.0"
   ]
  },
  {
   "cell_type": "code",
   "execution_count": 94,
   "metadata": {},
   "outputs": [
    {
     "name": "stdout",
     "output_type": "stream",
     "text": [
      "a\n",
      "b\n",
      "c\n",
      "d\n",
      "e\n"
     ]
    }
   ],
   "source": [
    "for x in asc[:5]:\n",
    "    print(x)"
   ]
  },
  {
   "cell_type": "code",
   "execution_count": 7,
   "metadata": {},
   "outputs": [],
   "source": [
    "A = {\n",
    "    'a':(1, 2.3),\n",
    "    'b':(1, 3.3),\n",
    "    'c':(3, 4.5)}\n",
    "\n",
    "j1 = ('a', 'b', 3.200)\n",
    "j2 = ('b', 'c', 3.200)\n",
    "B = [j1, j2]"
   ]
  },
  {
   "cell_type": "code",
   "execution_count": 87,
   "metadata": {},
   "outputs": [
    {
     "name": "stdout",
     "output_type": "stream",
     "text": [
      "{'a': [], 'b': [], 'c': []}\n"
     ]
    },
    {
     "data": {
      "text/plain": [
       "{'a': [(3.2, 1)], 'b': [(3.2, 1), (3.2, 3)], 'c': [(3.2, 1)]}"
      ]
     },
     "execution_count": 87,
     "metadata": {},
     "output_type": "execute_result"
    }
   ],
   "source": [
    "C = {a:[] for a in A}\n",
    "print(C)\n",
    "\n",
    "for k in A:\n",
    "    for b in B:\n",
    "        if k == b[0]: C[k].append( (b[2], A[b[1]][0]) )\n",
    "        elif k == b[1]: C[k].append( (b[2], A[b[0]][0]) )"
   ]
  },
  {
   "cell_type": "code",
   "execution_count": 93,
   "metadata": {},
   "outputs": [
    {
     "data": {
      "text/plain": [
       "{'a': ([array([-1.6,  1.6])], [array([0.5, 0.5])]),\n",
       " 'b': ([array([-1.6,  1.6]), array([-4.8, -1.6,  1.6,  4.8])],\n",
       "  [array([0.5, 0.5]), array([0.125, 0.375, 0.375, 0.125])]),\n",
       " 'c': ([array([-1.6,  1.6])], [array([0.5, 0.5])])}"
      ]
     },
     "execution_count": 93,
     "metadata": {},
     "output_type": "execute_result"
    }
   ],
   "source": [
    "F = {a:([], []) for a in A}\n",
    "for k in A:\n",
    "    for b, d in C[k]:\n",
    "        F[k][0].append( np.array([n*b/2 for n in range(-d, d+1, 2)]) )\n",
    "        F[k][1].append( np.array([binom(d, x)/pow(2,d) for x in range(0, d+1)]))"
   ]
  },
  {
   "cell_type": "code",
   "execution_count": 23,
   "metadata": {},
   "outputs": [
    {
     "data": {
      "text/plain": [
       "{'a': ([[-1.6, 1.6]], [[0.5, 0.5]]),\n",
       " 'b': ([[-1.6, 1.6], [-4.800000000000001, -1.6, 1.6, 4.800000000000001]],\n",
       "  [[0.5, 0.5], [0.125, 0.375, 0.375, 0.125]]),\n",
       " 'c': ([[-1.6, 1.6]], [[0.5, 0.5]])}"
      ]
     },
     "execution_count": 23,
     "metadata": {},
     "output_type": "execute_result"
    }
   ],
   "source": [
    "# this combines the above two cells into one\n",
    "\n",
    "F = {a:([], []) for a in A}\n",
    "\n",
    "for k in A:\n",
    "    for b in B:\n",
    "        if k == b[0]: \n",
    "            d = A[b[1]][0]\n",
    "            F[k][0].append( [n*b[2]/2 for n in range(-d, d+1, 2)] )\n",
    "            F[k][1].append( [binom(d, x)/pow(2,d) for x in range(0, d+1)] )\n",
    "        elif k == b[1]: \n",
    "            d = A[b[0]][0]\n",
    "            F[k][0].append( [n*b[2]/2 for n in range(-d, d+1, 2)] )\n",
    "            F[k][1].append( [binom(d, x)/pow(2,d) for x in range(0, d+1)] )"
   ]
  },
  {
   "cell_type": "code",
   "execution_count": 7,
   "metadata": {},
   "outputs": [],
   "source": [
    "from itertools import product"
   ]
  },
  {
   "cell_type": "code",
   "execution_count": 102,
   "metadata": {},
   "outputs": [
    {
     "data": {
      "text/plain": [
       "{'a': ([-1.6, 1.6], [0.5, 0.5]),\n",
       " 'b': ([-6.4,\n",
       "   -3.2,\n",
       "   0.0,\n",
       "   3.2000000000000006,\n",
       "   -3.2000000000000006,\n",
       "   0.0,\n",
       "   3.2,\n",
       "   6.4],\n",
       "  [0.0625, 0.1875, 0.1875, 0.0625, 0.0625, 0.1875, 0.1875, 0.0625]),\n",
       " 'c': ([-1.6, 1.6], [0.5, 0.5])}"
      ]
     },
     "execution_count": 102,
     "metadata": {},
     "output_type": "execute_result"
    }
   ],
   "source": [
    "G = {a:([], []) for a in A}\n",
    "\n",
    "for k in A:\n",
    "    for i in product(*F[k][0]):\n",
    "        G[k][0].append(sum(i))\n",
    "        \n",
    "    for i in product(*F[k][1]):\n",
    "        G[k][1].append(np.prod(i))"
   ]
  },
  {
   "cell_type": "code",
   "execution_count": 117,
   "metadata": {},
   "outputs": [
    {
     "data": {
      "text/plain": [
       "{'a': ([-1.6, 1.6], [0.5, 0.5]),\n",
       " 'b': ([-6.4,\n",
       "   -3.2000000000000006,\n",
       "   -3.2,\n",
       "   0.0,\n",
       "   0.0,\n",
       "   3.2,\n",
       "   3.2000000000000006,\n",
       "   6.4],\n",
       "  [0.0625, 0.0625, 0.1875, 0.1875, 0.1875, 0.1875, 0.0625, 0.0625]),\n",
       " 'c': ([-1.6, 1.6], [0.5, 0.5])}"
      ]
     },
     "execution_count": 117,
     "metadata": {},
     "output_type": "execute_result"
    }
   ],
   "source": [
    "I = {k:([],[]) for k in A}\n",
    "\n",
    "for k in A:\n",
    "    for n in np.argsort(H[k][0]):\n",
    "        I[k][0].append(H[k][0][n])\n",
    "        I[k][1].append(H[k][1][n])"
   ]
  },
  {
   "cell_type": "code",
   "execution_count": 102,
   "metadata": {},
   "outputs": [
    {
     "data": {
      "text/plain": [
       "{'a': ([-1.6, 1.6], [0.5, 0.5]),\n",
       " 'b': ([-6.4, -3.2000000000000006, 0.0, 3.2, 6.4],\n",
       "  [0.0625, 0.25, 0.375, 0.25, 0.0625]),\n",
       " 'c': ([-1.6, 1.6], [0.5, 0.5])}"
      ]
     },
     "execution_count": 102,
     "metadata": {},
     "output_type": "execute_result"
    }
   ],
   "source": [
    "K = {k:([J0[k][0]],[J1[k][0]]) for k in A}\n",
    "\n",
    "for k in A:\n",
    "    for i in range(1, len(J[k][0])):\n",
    "        if np.isclose(K[k][0][-1], J[k][0][i]):\n",
    "            K[k][1][-1] += J[k][1][i]\n",
    "        else:\n",
    "            K[k][0].append(J[k][0][i])\n",
    "            K[k][1].append(J[k][1][i])"
   ]
  },
  {
   "cell_type": "markdown",
   "metadata": {},
   "source": [
    "Molecule construction"
   ]
  },
  {
   "cell_type": "code",
   "execution_count": 8,
   "metadata": {},
   "outputs": [],
   "source": [
    "hydrogens = {\n",
    "        'a':(3, 2.3),\n",
    "        'b':(4, 3.3),\n",
    "        'c':(4, 4.5)}\n",
    "\n",
    "j1 = ('a', 'b', 2.000)\n",
    "j2 = ('b', 'c', 3.500)\n",
    "couplings = [j1, j2]"
   ]
  },
  {
   "cell_type": "code",
   "execution_count": 9,
   "metadata": {},
   "outputs": [],
   "source": [
    "from itertools import product\n",
    "A = list(dict.fromkeys([k for b in couplings for k in b[:-1]]))\n",
    "B = {k:[ (b[2], hydrogens[ b[ 1-b.index(k) ] ][0]) for b in couplings if k in b] for k in A}\n",
    "\n",
    "F0 = {k:[ [n*b/2 for n in range(-d, d+1, 2)] for b, d in B[k]] for k in A}\n",
    "F1 = {k:[ [binom(d, x)/pow(2,d) for x in range(0, d+1)] for b, d in B[k]] for k in A}\n",
    "G0 = {k:[ sum(i) for i in product(*F0[k]) ] for k in A}\n",
    "G1 = {k:[ np.prod(i) for i in product(*F1[k]) ] for k in A}\n",
    "J0 = {k:[G0[k][n] for n in np.argsort(G0[k])] for k in A}\n",
    "J1 = {k:[G1[k][n] for n in np.argsort(G0[k])] for k in A}\n",
    "\n",
    "ind = lambda k: filter(lambda i: not np.isclose(J0[k][i-1], J0[k][i]), range(0, len(J0[k])))\n",
    "K0 = {k:[J0[k][i] for i in ind(k)] for k in A}\n",
    "K1 = {k:[J1[k][i] for i in ind(k)] for k in A}\n",
    "\n",
    "dup = lambda k: filter(lambda i: np.isclose(J0[k][i-1], J0[k][i]), range(0, len(J0[k])))\n",
    "for k in A:\n",
    "    n = 0\n",
    "    for i in dup(k):\n",
    "        K1[k][i-1-n] += J1[k][i]\n",
    "        n += 1"
   ]
  },
  {
   "cell_type": "code",
   "execution_count": 10,
   "metadata": {},
   "outputs": [
    {
     "data": {
      "text/plain": [
       "1.0"
      ]
     },
     "execution_count": 10,
     "metadata": {},
     "output_type": "execute_result"
    }
   ],
   "source": [
    "sum(K1['b'])"
   ]
  },
  {
   "cell_type": "markdown",
   "metadata": {
    "jupyter": {
     "source_hidden": true
    }
   },
   "source": [
    "The representative spectrum 1H NMR obtained from serum samples of HC subjects. The following metabolites are identified: \n",
    "\n",
    "1, L_1; \n",
    "\n",
    "2, L_2; \n",
    "\n",
    "3, Isoleucine; \n",
    "\n",
    "4, Leucine; \n",
    "\n",
    "5, Valine; \n",
    "\n",
    "6, Unk_1; \n",
    "\n",
    "7, 3-Hydroxybutyrate; \n",
    "\n",
    "8, L_3; \n",
    "\n",
    "9, L_4; \n",
    "\n",
    "10, L_5; \n",
    "\n",
    "11, Lactate; \n",
    "\n",
    "12, Alanine; \n",
    "\n",
    "13, L_6; \n",
    "\n",
    "14, Acetate; \n",
    "\n",
    "15, L_7; \n",
    "\n",
    "16, L_8; \n",
    "\n",
    "17, NAC; \n",
    "\n",
    "18, Acetone; \n",
    "\n",
    "19, Acetoacetate; \n",
    "\n",
    "20, Pyruvate; \n",
    "\n",
    "21, Glutamine; \n",
    "\n",
    "22, Citrate; \n",
    "\n",
    "23, Unk_2; \n",
    "\n",
    "24, Creatine; \n",
    "\n",
    "25, Dimethyl sulfone; \n",
    "\n",
    "26, Chol+GPC+APC; \n",
    "\n",
    "27, Glucose; \n",
    "\n",
    "28, Betaine; \n",
    "\n",
    "29, Methanol; \n",
    "\n",
    "30, Glycerol; \n",
    "\n",
    "31, Creatinine; \n",
    "\n",
    "32, L_9; \n",
    "\n",
    "33, Tyrosine; \n",
    "\n",
    "34, π-Methylhistidine; \n",
    "\n",
    "35, Phenylalanine; \n",
    "\n",
    "36, Formate"
   ]
  },
  {
   "cell_type": "code",
   "execution_count": 11,
   "metadata": {},
   "outputs": [],
   "source": [
    "hydrogens = {\n",
    "    'a':(3, 1.100),\n",
    "    'b':(2, 3.600),\n",
    "    'c':(1, 3.250)}\n",
    "\n",
    "j1 = ('a', 'b', 5.000)\n",
    "couplings = [j1]\n",
    "ethanol = molecule(hydrogens=hydrogens, couplings=couplings)"
   ]
  },
  {
   "cell_type": "code",
   "execution_count": 12,
   "metadata": {},
   "outputs": [],
   "source": [
    "hydrogens = {\n",
    "    'a':(3, 1.300),\n",
    "    'b':(1, 4.100)}\n",
    "\n",
    "j1 = ('a', 'b', 7.000)\n",
    "couplings = [j1]\n",
    "lactate = molecule(hydrogens=hydrogens, couplings=couplings)"
   ]
  },
  {
   "cell_type": "code",
   "execution_count": 13,
   "metadata": {},
   "outputs": [],
   "source": [
    "hydrogens = {\n",
    "    'a':(1, 3.900),\n",
    "    'b':(9, 3.250)}\n",
    "\n",
    "couplings = []\n",
    "betaine = molecule(hydrogens=hydrogens, couplings=couplings)"
   ]
  },
  {
   "cell_type": "code",
   "execution_count": 14,
   "metadata": {},
   "outputs": [],
   "source": [
    "hydrogens = {\n",
    "    'a':(12, 10.0)}\n",
    "\n",
    "couplings = []\n",
    "TMS =  molecule(hydrogens=hydrogens, couplings=couplings)"
   ]
  },
  {
   "cell_type": "code",
   "execution_count": 207,
   "metadata": {},
   "outputs": [],
   "source": [
    "molecules = {\n",
    "    'A':(ethanol, 4.523),\n",
    "    'B':(lactate, 6.782),\n",
    "    'C':(betaine, 4.321),\n",
    "    'D':(TMS, 1.0)}"
   ]
  },
  {
   "cell_type": "code",
   "execution_count": 208,
   "metadata": {},
   "outputs": [],
   "source": [
    "nmr_sample = sample(molecules=molecules, T2=500.0)"
   ]
  },
  {
   "cell_type": "code",
   "execution_count": 17,
   "metadata": {},
   "outputs": [
    {
     "data": {
      "text/plain": [
       "{'molecules': {'A': (<ftnmr.molecule at 0x7f4cefb94910>, 0.523),\n",
       "  'B': (<ftnmr.molecule at 0x7f4cefb94850>, 0.782),\n",
       "  'C': (<ftnmr.molecule at 0x7f4cefb94580>, 1.321),\n",
       "  'D': (<ftnmr.molecule at 0x7f4cefb94520>, 1.0)},\n",
       " 'T2': 100.0,\n",
       " 'r': 0.01,\n",
       " 'timeunit': 'msec'}"
      ]
     },
     "execution_count": 17,
     "metadata": {},
     "output_type": "execute_result"
    }
   ],
   "source": [
    "nmr_sample.__dict__"
   ]
  },
  {
   "cell_type": "code",
   "execution_count": 74,
   "metadata": {},
   "outputs": [
    {
     "data": {
      "text/plain": [
       "{'a': (array([-5.,  0.,  5.]), array([0.25, 0.5 , 0.25])),\n",
       " 'b': (array([-7.5, -2.5,  2.5,  7.5]), array([0.125, 0.375, 0.375, 0.125]))}"
      ]
     },
     "execution_count": 74,
     "metadata": {},
     "output_type": "execute_result"
    }
   ],
   "source": [
    "# number of 'a' group hydrogens of 'A' molecule of the sample\n",
    "nmr_sample.molecules['A'][0].splits"
   ]
  },
  {
   "cell_type": "code",
   "execution_count": 75,
   "metadata": {},
   "outputs": [
    {
     "data": {
      "text/plain": [
       "1.1"
      ]
     },
     "execution_count": 75,
     "metadata": {},
     "output_type": "execute_result"
    }
   ],
   "source": [
    "# chemical shift of 'a' group hydrogens of 'A' molecule of the sample\n",
    "nmr_sample.molecules['A'][0].hydrogens['a'][1]"
   ]
  },
  {
   "cell_type": "code",
   "execution_count": 18,
   "metadata": {},
   "outputs": [],
   "source": [
    "RH = 12"
   ]
  },
  {
   "cell_type": "code",
   "execution_count": 77,
   "metadata": {},
   "outputs": [],
   "source": [
    "moles = nmr_sample.molecules"
   ]
  },
  {
   "cell_type": "code",
   "execution_count": 79,
   "metadata": {},
   "outputs": [
    {
     "data": {
      "text/plain": [
       "{'hydrogens': {'a': (3, 1.1), 'b': (2, 3.6), 'c': (1, 3.25)},\n",
       " 'couplings': [('a', 'b', 5.0)],\n",
       " 'splits': {'a': (array([-5.,  0.,  5.]), array([0.25, 0.5 , 0.25])),\n",
       "  'b': (array([-7.5, -2.5,  2.5,  7.5]), array([0.125, 0.375, 0.375, 0.125]))}}"
      ]
     },
     "execution_count": 79,
     "metadata": {},
     "output_type": "execute_result"
    }
   ],
   "source": [
    "moles['A'][0].__dict__"
   ]
  },
  {
   "cell_type": "code",
   "execution_count": 80,
   "metadata": {},
   "outputs": [],
   "source": [
    "test1 = {\n",
    "    f'{x}_{y}{0.0:+}': (\n",
    "        pow(10, -6)*moles[x][0].hydrogens[y][1]*gamma*B,\n",
    "        moles[x][1]*moles[x][0].hydrogens[y][0]/RH)\n",
    "    for x in moles for y in moles[x][0].hydrogens if y not in moles[x][0].splits}"
   ]
  },
  {
   "cell_type": "code",
   "execution_count": 81,
   "metadata": {},
   "outputs": [
    {
     "data": {
      "text/plain": [
       "{'A_c+0.0': (8694.471091799998, 0.043583333333333335),\n",
       " 'C_a+0.0': (10433.365310159998, 0.11008333333333332),\n",
       " 'C_b+0.0': (8694.471091799998, 0.9907499999999999),\n",
       " 'D_a+0.0': (0.0, 1.0)}"
      ]
     },
     "execution_count": 81,
     "metadata": {},
     "output_type": "execute_result"
    }
   ],
   "source": [
    "test1"
   ]
  },
  {
   "cell_type": "code",
   "execution_count": 82,
   "metadata": {},
   "outputs": [],
   "source": [
    "test2 = {\n",
    "    f'{x}_{y}{z:+}': (\n",
    "        pow(10, -6)*moles[x][0].hydrogens[y][1]*gamma*B + 2*np.pi*z,\n",
    "        moles[x][1]*moles[x][0].hydrogens[y][0]*k/RH)\n",
    "    for x in moles for y in moles[x][0].splits\n",
    "    for z, k in zip(moles[x][0].splits[y][0], moles[x][0].splits[y][1])}"
   ]
  },
  {
   "cell_type": "code",
   "execution_count": 211,
   "metadata": {},
   "outputs": [
    {
     "data": {
      "text/plain": [
       "0.002"
      ]
     },
     "execution_count": 211,
     "metadata": {},
     "output_type": "execute_result"
    }
   ],
   "source": [
    "nmr_sample.r"
   ]
  },
  {
   "cell_type": "markdown",
   "metadata": {},
   "source": [
    "Spectrometer Class with Sample"
   ]
  },
  {
   "cell_type": "code",
   "execution_count": 263,
   "metadata": {},
   "outputs": [],
   "source": [
    "spec = spectrometer(t_cut=1500)"
   ]
  },
  {
   "cell_type": "code",
   "execution_count": 264,
   "metadata": {},
   "outputs": [],
   "source": [
    "spec.measure(sample=nmr_sample)"
   ]
  },
  {
   "cell_type": "code",
   "execution_count": 244,
   "metadata": {},
   "outputs": [],
   "source": [
    "spec.calibrate()"
   ]
  },
  {
   "cell_type": "code",
   "execution_count": 21,
   "metadata": {},
   "outputs": [
    {
     "name": "stdout",
     "output_type": "stream",
     "text": [
      "246 µs ± 2.15 µs per loop (mean ± std. dev. of 7 runs, 1000 loops each)\n"
     ]
    }
   ],
   "source": [
    "%timeit np.fft.fft(spec.C[0])[:10]"
   ]
  },
  {
   "cell_type": "code",
   "execution_count": 22,
   "metadata": {},
   "outputs": [
    {
     "name": "stdout",
     "output_type": "stream",
     "text": [
      "247 µs ± 820 ns per loop (mean ± std. dev. of 7 runs, 1000 loops each)\n"
     ]
    }
   ],
   "source": [
    "%timeit np.fft.fft(spec.C[0])"
   ]
  },
  {
   "cell_type": "code",
   "execution_count": 36,
   "metadata": {},
   "outputs": [
    {
     "data": {
      "text/plain": [
       "(<ftnmr.molecule at 0x7f4cefb94520>, 1.0)"
      ]
     },
     "execution_count": 36,
     "metadata": {},
     "output_type": "execute_result"
    }
   ],
   "source": [
    "nmr_sample.molecules['D']"
   ]
  },
  {
   "cell_type": "code",
   "execution_count": 44,
   "metadata": {},
   "outputs": [
    {
     "data": {
      "text/plain": [
       "(26.752218743999993, 1.0)"
      ]
     },
     "execution_count": 44,
     "metadata": {},
     "output_type": "execute_result"
    }
   ],
   "source": [
    "spec.splits[3]"
   ]
  },
  {
   "cell_type": "code",
   "execution_count": 265,
   "metadata": {},
   "outputs": [],
   "source": [
    "spec.process()"
   ]
  },
  {
   "cell_type": "code",
   "execution_count": 270,
   "metadata": {},
   "outputs": [
    {
     "data": {
      "text/plain": [
       "54.49917250282567"
      ]
     },
     "execution_count": 270,
     "metadata": {},
     "output_type": "execute_result"
    }
   ],
   "source": [
    "spec.f_s"
   ]
  },
  {
   "cell_type": "code",
   "execution_count": 266,
   "metadata": {},
   "outputs": [
    {
     "data": {
      "image/png": "[encoded data removed]",
      "text/plain": [
       "<Figure size 432x288 with 1 Axes>"
      ]
     },
     "metadata": {
      "needs_background": "light"
     },
     "output_type": "display_data"
    }
   ],
   "source": [
    "plt.plot(spec.f, spec.spectra.real)\n",
    "plt.show()"
   ]
  },
  {
   "cell_type": "code",
   "execution_count": 267,
   "metadata": {},
   "outputs": [
    {
     "data": {
      "image/png": "[encoded data removed]",
      "text/plain": [
       "<Figure size 432x288 with 1 Axes>"
      ]
     },
     "metadata": {
      "needs_background": "light"
     },
     "output_type": "display_data"
    }
   ],
   "source": [
    "plt.plot(spec.shift, spec.spectra.real)\n",
    "plt.show()"
   ]
  },
  {
   "cell_type": "code",
   "execution_count": 250,
   "metadata": {},
   "outputs": [
    {
     "data": {
      "text/plain": [
       "16.0"
      ]
     },
     "execution_count": 250,
     "metadata": {},
     "output_type": "execute_result"
    }
   ],
   "source": [
    "spec.shift_cutoff"
   ]
  },
  {
   "cell_type": "code",
   "execution_count": 273,
   "metadata": {},
   "outputs": [
    {
     "data": {
      "text/plain": [
       "0.00010394892216267714"
      ]
     },
     "execution_count": 273,
     "metadata": {},
     "output_type": "execute_result"
    }
   ],
   "source": [
    "spec.df"
   ]
  },
  {
   "cell_type": "code",
   "execution_count": 261,
   "metadata": {},
   "outputs": [
    {
     "data": {
      "text/plain": [
       "{'B': 10.0,\n",
       " 'timeunit': 'msec',\n",
       " 'shift_maximum': 128.0,\n",
       " 'p_l': 3,\n",
       " 'shift_cutoff': 16.0,\n",
       " 'f_unit': 'kHz',\n",
       " 'ep': -3,\n",
       " 'w_l': 2675221.8743999996,\n",
       " 'f_s': 54.49917250282567,\n",
       " 'dt': 0.01834890245256755,\n",
       " 'ns': 131072,\n",
       " 'p': 19,\n",
       " 't': array([0.00000000e+00, 1.83489025e-02, 3.66978049e-02, ...,\n",
       "        2.40497230e+03, 2.40499064e+03, 2.40500899e+03]),\n",
       " 'df': 0.00010394892216267714,\n",
       " 'nf': 65536,\n",
       " 'f': array([0.00000000e+00, 1.03948922e-04, 2.07897844e-04, ...,\n",
       "        6.81208472e+00, 6.81218867e+00, 6.81229261e+00]),\n",
       " 'shift': array([0.00000000e+00, 2.44140625e-04, 4.88281250e-04, ...,\n",
       "        1.59992676e+01, 1.59995117e+01, 1.59997559e+01]),\n",
       " 'hr': 0.08333333333333333,\n",
       " 'splits': [(8.694471091799999, 0.3769166666666666),\n",
       "  (10.433365310159997, 0.3600833333333333),\n",
       "  (8.694471091799999, 3.2407499999999994),\n",
       "  (26.752218743999993, 1.0),\n",
       "  (2.911328135304102, 0.2826875),\n",
       "  (2.9427440618399996, 0.565375),\n",
       "  (2.9741599883758973, 0.2826875),\n",
       "  (9.58367485803615, 0.09422916666666666),\n",
       "  (9.615090784572049, 0.2826875),\n",
       "  (9.646506711107948, 0.2826875),\n",
       "  (9.677922637643846, 0.09422916666666666),\n",
       "  (3.455797288144871, 0.84775),\n",
       "  (3.499779585295128, 0.84775),\n",
       "  (10.902436239314612, 0.07064583333333332),\n",
       "  (10.946418536464869, 0.2119375),\n",
       "  (10.990400833615126, 0.2119375),\n",
       "  (11.034383130765383, 0.07064583333333332)],\n",
       " 'signal': array([3.34794074e-04+0.00000000e+00j, 3.27484956e-04+5.61182451e-05j,\n",
       "        3.06689136e-04+1.07178368e-04j, ...,\n",
       "        3.79583303e-07-8.47678172e-07j, 5.84408141e-07-6.95753702e-07j,\n",
       "        7.30821153e-07-4.76528728e-07j]),\n",
       " 'spectra': array([0.00016553+0.00297535j, 0.00016966+0.00297809j,\n",
       "        0.00017196+0.0029744j , ..., 0.00016941-0.00056555j,\n",
       "        0.00016754-0.00056761j, 0.00016547-0.00056572j])}"
      ]
     },
     "execution_count": 261,
     "metadata": {},
     "output_type": "execute_result"
    }
   ],
   "source": [
    "spec.__dict__"
   ]
  },
  {
   "cell_type": "code",
   "execution_count": 275,
   "metadata": {},
   "outputs": [
    {
     "data": {
      "text/plain": [
       "{'molecules': {'A': (<ftnmr.molecule at 0x7f4cefb94910>, 4.523),\n",
       "  'B': (<ftnmr.molecule at 0x7f4cefb94850>, 6.782),\n",
       "  'C': (<ftnmr.molecule at 0x7f4cefb94580>, 4.321),\n",
       "  'D': (<ftnmr.molecule at 0x7f4cefb94520>, 1.0)},\n",
       " 'T2': 500.0,\n",
       " 'r': 0.002,\n",
       " 'timeunit': 'msec'}"
      ]
     },
     "execution_count": 275,
     "metadata": {},
     "output_type": "execute_result"
    }
   ],
   "source": [
    "nmr_sample.__dict__"
   ]
  },
  {
   "cell_type": "code",
   "execution_count": null,
   "metadata": {},
   "outputs": [],
   "source": []
  }
 ],
 "metadata": {
  "kernelspec": {
   "display_name": "Python 3",
   "language": "python",
   "name": "python3"
  },
  "language_info": {
   "codemirror_mode": {
    "name": "ipython",
    "version": 3
   },
   "file_extension": ".py",
   "mimetype": "text/x-python",
   "name": "python",
   "nbconvert_exporter": "python",
   "pygments_lexer": "ipython3",
   "version": "3.8.3"
  }
 },
 "nbformat": 4,
 "nbformat_minor": 4
}
