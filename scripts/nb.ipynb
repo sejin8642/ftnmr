{
 "cells": [
  {
   "cell_type": "code",
   "execution_count": 1,
   "metadata": {},
   "outputs": [],
   "source": [
    "%matplotlib inline"
   ]
  },
  {
   "cell_type": "code",
   "execution_count": 2,
   "metadata": {},
   "outputs": [],
   "source": [
    "%load_ext autoreload"
   ]
  },
  {
   "cell_type": "code",
   "execution_count": 3,
   "metadata": {},
   "outputs": [],
   "source": [
    "%autoreload 2"
   ]
  },
  {
   "cell_type": "code",
   "execution_count": 4,
   "metadata": {},
   "outputs": [],
   "source": [
    "import numpy as np\n",
    "import matplotlib.pyplot as plt\n",
    "import scipy"
   ]
  },
  {
   "cell_type": "code",
   "execution_count": 5,
   "metadata": {},
   "outputs": [],
   "source": [
    "from ftnmr import *"
   ]
  },
  {
   "cell_type": "markdown",
   "metadata": {},
   "source": [
    "Hydrogens and their frequencies and ratios"
   ]
  },
  {
   "cell_type": "code",
   "execution_count": 91,
   "metadata": {},
   "outputs": [],
   "source": [
    "from string import ascii_lowercase as asc\n",
    "from scipy.special import binom\n",
    "from itertools import product"
   ]
  },
  {
   "cell_type": "code",
   "execution_count": 293,
   "metadata": {},
   "outputs": [],
   "source": [
    "gamma = 267.52218744*pow(10, 6)"
   ]
  },
  {
   "cell_type": "code",
   "execution_count": 94,
   "metadata": {},
   "outputs": [
    {
     "name": "stdout",
     "output_type": "stream",
     "text": [
      "a\n",
      "b\n",
      "c\n",
      "d\n",
      "e\n"
     ]
    }
   ],
   "source": [
    "for x in asc[:5]:\n",
    "    print(x)"
   ]
  },
  {
   "cell_type": "code",
   "execution_count": 7,
   "metadata": {},
   "outputs": [],
   "source": [
    "A = {\n",
    "    'a':(1, 2.3),\n",
    "    'b':(1, 3.3),\n",
    "    'c':(3, 4.5)}\n",
    "\n",
    "j1 = ('a', 'b', 3.200)\n",
    "j2 = ('b', 'c', 3.200)\n",
    "B = [j1, j2]"
   ]
  },
  {
   "cell_type": "code",
   "execution_count": 87,
   "metadata": {},
   "outputs": [
    {
     "name": "stdout",
     "output_type": "stream",
     "text": [
      "{'a': [], 'b': [], 'c': []}\n"
     ]
    },
    {
     "data": {
      "text/plain": [
       "{'a': [(3.2, 1)], 'b': [(3.2, 1), (3.2, 3)], 'c': [(3.2, 1)]}"
      ]
     },
     "execution_count": 87,
     "metadata": {},
     "output_type": "execute_result"
    }
   ],
   "source": [
    "C = {a:[] for a in A}\n",
    "print(C)\n",
    "\n",
    "for k in A:\n",
    "    for b in B:\n",
    "        if k == b[0]: C[k].append( (b[2], A[b[1]][0]) )\n",
    "        elif k == b[1]: C[k].append( (b[2], A[b[0]][0]) )"
   ]
  },
  {
   "cell_type": "code",
   "execution_count": 93,
   "metadata": {},
   "outputs": [
    {
     "data": {
      "text/plain": [
       "{'a': ([array([-1.6,  1.6])], [array([0.5, 0.5])]),\n",
       " 'b': ([array([-1.6,  1.6]), array([-4.8, -1.6,  1.6,  4.8])],\n",
       "  [array([0.5, 0.5]), array([0.125, 0.375, 0.375, 0.125])]),\n",
       " 'c': ([array([-1.6,  1.6])], [array([0.5, 0.5])])}"
      ]
     },
     "execution_count": 93,
     "metadata": {},
     "output_type": "execute_result"
    }
   ],
   "source": [
    "F = {a:([], []) for a in A}\n",
    "for k in A:\n",
    "    for b, d in C[k]:\n",
    "        F[k][0].append( np.array([n*b/2 for n in range(-d, d+1, 2)]) )\n",
    "        F[k][1].append( np.array([binom(d, x)/pow(2,d) for x in range(0, d+1)]))"
   ]
  },
  {
   "cell_type": "code",
   "execution_count": 23,
   "metadata": {},
   "outputs": [
    {
     "data": {
      "text/plain": [
       "{'a': ([[-1.6, 1.6]], [[0.5, 0.5]]),\n",
       " 'b': ([[-1.6, 1.6], [-4.800000000000001, -1.6, 1.6, 4.800000000000001]],\n",
       "  [[0.5, 0.5], [0.125, 0.375, 0.375, 0.125]]),\n",
       " 'c': ([[-1.6, 1.6]], [[0.5, 0.5]])}"
      ]
     },
     "execution_count": 23,
     "metadata": {},
     "output_type": "execute_result"
    }
   ],
   "source": [
    "# this combines the above two cells into one\n",
    "\n",
    "F = {a:([], []) for a in A}\n",
    "\n",
    "for k in A:\n",
    "    for b in B:\n",
    "        if k == b[0]: \n",
    "            d = A[b[1]][0]\n",
    "            F[k][0].append( [n*b[2]/2 for n in range(-d, d+1, 2)] )\n",
    "            F[k][1].append( [binom(d, x)/pow(2,d) for x in range(0, d+1)] )\n",
    "        elif k == b[1]: \n",
    "            d = A[b[0]][0]\n",
    "            F[k][0].append( [n*b[2]/2 for n in range(-d, d+1, 2)] )\n",
    "            F[k][1].append( [binom(d, x)/pow(2,d) for x in range(0, d+1)] )"
   ]
  },
  {
   "cell_type": "code",
   "execution_count": 7,
   "metadata": {},
   "outputs": [],
   "source": [
    "from itertools import product"
   ]
  },
  {
   "cell_type": "code",
   "execution_count": 102,
   "metadata": {},
   "outputs": [
    {
     "data": {
      "text/plain": [
       "{'a': ([-1.6, 1.6], [0.5, 0.5]),\n",
       " 'b': ([-6.4,\n",
       "   -3.2,\n",
       "   0.0,\n",
       "   3.2000000000000006,\n",
       "   -3.2000000000000006,\n",
       "   0.0,\n",
       "   3.2,\n",
       "   6.4],\n",
       "  [0.0625, 0.1875, 0.1875, 0.0625, 0.0625, 0.1875, 0.1875, 0.0625]),\n",
       " 'c': ([-1.6, 1.6], [0.5, 0.5])}"
      ]
     },
     "execution_count": 102,
     "metadata": {},
     "output_type": "execute_result"
    }
   ],
   "source": [
    "G = {a:([], []) for a in A}\n",
    "\n",
    "for k in A:\n",
    "    for i in product(*F[k][0]):\n",
    "        G[k][0].append(sum(i))\n",
    "        \n",
    "    for i in product(*F[k][1]):\n",
    "        G[k][1].append(np.prod(i))"
   ]
  },
  {
   "cell_type": "code",
   "execution_count": 117,
   "metadata": {},
   "outputs": [
    {
     "data": {
      "text/plain": [
       "{'a': ([-1.6, 1.6], [0.5, 0.5]),\n",
       " 'b': ([-6.4,\n",
       "   -3.2000000000000006,\n",
       "   -3.2,\n",
       "   0.0,\n",
       "   0.0,\n",
       "   3.2,\n",
       "   3.2000000000000006,\n",
       "   6.4],\n",
       "  [0.0625, 0.0625, 0.1875, 0.1875, 0.1875, 0.1875, 0.0625, 0.0625]),\n",
       " 'c': ([-1.6, 1.6], [0.5, 0.5])}"
      ]
     },
     "execution_count": 117,
     "metadata": {},
     "output_type": "execute_result"
    }
   ],
   "source": [
    "I = {k:([],[]) for k in A}\n",
    "\n",
    "for k in A:\n",
    "    for n in np.argsort(H[k][0]):\n",
    "        I[k][0].append(H[k][0][n])\n",
    "        I[k][1].append(H[k][1][n])"
   ]
  },
  {
   "cell_type": "code",
   "execution_count": 102,
   "metadata": {},
   "outputs": [
    {
     "data": {
      "text/plain": [
       "{'a': ([-1.6, 1.6], [0.5, 0.5]),\n",
       " 'b': ([-6.4, -3.2000000000000006, 0.0, 3.2, 6.4],\n",
       "  [0.0625, 0.25, 0.375, 0.25, 0.0625]),\n",
       " 'c': ([-1.6, 1.6], [0.5, 0.5])}"
      ]
     },
     "execution_count": 102,
     "metadata": {},
     "output_type": "execute_result"
    }
   ],
   "source": [
    "K = {k:([J0[k][0]],[J1[k][0]]) for k in A}\n",
    "\n",
    "for k in A:\n",
    "    for i in range(1, len(J[k][0])):\n",
    "        if np.isclose(K[k][0][-1], J[k][0][i]):\n",
    "            K[k][1][-1] += J[k][1][i]\n",
    "        else:\n",
    "            K[k][0].append(J[k][0][i])\n",
    "            K[k][1].append(J[k][1][i])"
   ]
  },
  {
   "cell_type": "markdown",
   "metadata": {},
   "source": [
    "Molecule construction"
   ]
  },
  {
   "cell_type": "code",
   "execution_count": 8,
   "metadata": {},
   "outputs": [],
   "source": [
    "hydrogens = {\n",
    "        'a':(3, 2.3),\n",
    "        'b':(4, 3.3),\n",
    "        'c':(4, 4.5)}\n",
    "\n",
    "j1 = ('a', 'b', 2.000)\n",
    "j2 = ('b', 'c', 3.500)\n",
    "couplings = [j1, j2]"
   ]
  },
  {
   "cell_type": "code",
   "execution_count": 9,
   "metadata": {},
   "outputs": [],
   "source": [
    "from itertools import product\n",
    "A = list(dict.fromkeys([k for b in couplings for k in b[:-1]]))\n",
    "B = {k:[ (b[2], hydrogens[ b[ 1-b.index(k) ] ][0]) for b in couplings if k in b] for k in A}\n",
    "\n",
    "F0 = {k:[ [n*b/2 for n in range(-d, d+1, 2)] for b, d in B[k]] for k in A}\n",
    "F1 = {k:[ [binom(d, x)/pow(2,d) for x in range(0, d+1)] for b, d in B[k]] for k in A}\n",
    "G0 = {k:[ sum(i) for i in product(*F0[k]) ] for k in A}\n",
    "G1 = {k:[ np.prod(i) for i in product(*F1[k]) ] for k in A}\n",
    "J0 = {k:[G0[k][n] for n in np.argsort(G0[k])] for k in A}\n",
    "J1 = {k:[G1[k][n] for n in np.argsort(G0[k])] for k in A}\n",
    "\n",
    "ind = lambda k: filter(lambda i: not np.isclose(J0[k][i-1], J0[k][i]), range(0, len(J0[k])))\n",
    "K0 = {k:[J0[k][i] for i in ind(k)] for k in A}\n",
    "K1 = {k:[J1[k][i] for i in ind(k)] for k in A}\n",
    "\n",
    "dup = lambda k: filter(lambda i: np.isclose(J0[k][i-1], J0[k][i]), range(0, len(J0[k])))\n",
    "for k in A:\n",
    "    n = 0\n",
    "    for i in dup(k):\n",
    "        K1[k][i-1-n] += J1[k][i]\n",
    "        n += 1"
   ]
  },
  {
   "cell_type": "code",
   "execution_count": 10,
   "metadata": {},
   "outputs": [
    {
     "data": {
      "text/plain": [
       "1.0"
      ]
     },
     "execution_count": 10,
     "metadata": {},
     "output_type": "execute_result"
    }
   ],
   "source": [
    "sum(K1['b'])"
   ]
  },
  {
   "cell_type": "markdown",
   "metadata": {
    "jupyter": {
     "source_hidden": true
    }
   },
   "source": [
    "The representative spectrum 1H NMR obtained from serum samples of HC subjects. The following metabolites are identified: \n",
    "\n",
    "1, L_1; \n",
    "\n",
    "2, L_2; \n",
    "\n",
    "3, Isoleucine; \n",
    "\n",
    "4, Leucine; \n",
    "\n",
    "5, Valine; \n",
    "\n",
    "6, Unk_1; \n",
    "\n",
    "7, 3-Hydroxybutyrate; \n",
    "\n",
    "8, L_3; \n",
    "\n",
    "9, L_4; \n",
    "\n",
    "10, L_5; \n",
    "\n",
    "11, Lactate; \n",
    "\n",
    "12, Alanine; \n",
    "\n",
    "13, L_6; \n",
    "\n",
    "14, Acetate; \n",
    "\n",
    "15, L_7; \n",
    "\n",
    "16, L_8; \n",
    "\n",
    "17, NAC; \n",
    "\n",
    "18, Acetone; \n",
    "\n",
    "19, Acetoacetate; \n",
    "\n",
    "20, Pyruvate; \n",
    "\n",
    "21, Glutamine; \n",
    "\n",
    "22, Citrate; \n",
    "\n",
    "23, Unk_2; \n",
    "\n",
    "24, Creatine; \n",
    "\n",
    "25, Dimethyl sulfone; \n",
    "\n",
    "26, Chol+GPC+APC; \n",
    "\n",
    "27, Glucose; \n",
    "\n",
    "28, Betaine; \n",
    "\n",
    "29, Methanol; \n",
    "\n",
    "30, Glycerol; \n",
    "\n",
    "31, Creatinine; \n",
    "\n",
    "32, L_9; \n",
    "\n",
    "33, Tyrosine; \n",
    "\n",
    "34, π-Methylhistidine; \n",
    "\n",
    "35, Phenylalanine; \n",
    "\n",
    "36, Formate"
   ]
  },
  {
   "cell_type": "code",
   "execution_count": 11,
   "metadata": {},
   "outputs": [],
   "source": [
    "hydrogens = {\n",
    "    'a':(3, 1.100),\n",
    "    'b':(2, 3.600),\n",
    "    'c':(1, 3.250)}\n",
    "\n",
    "j1 = ('a', 'b', 5.000)\n",
    "couplings = [j1]"
   ]
  },
  {
   "cell_type": "code",
   "execution_count": 12,
   "metadata": {},
   "outputs": [],
   "source": [
    "ethanol = molecule(hydrogens=hydrogens, couplings=couplings)"
   ]
  },
  {
   "cell_type": "code",
   "execution_count": 13,
   "metadata": {},
   "outputs": [],
   "source": [
    "hydrogens = {\n",
    "    'a':(3, 1.300),\n",
    "    'b':(1, 4.100)}\n",
    "\n",
    "j1 = ('a', 'b', 7.000)\n",
    "couplings = [j1]"
   ]
  },
  {
   "cell_type": "code",
   "execution_count": 14,
   "metadata": {},
   "outputs": [],
   "source": [
    "lactate = molecule(hydrogens=hydrogens, couplings=couplings)"
   ]
  },
  {
   "cell_type": "code",
   "execution_count": 15,
   "metadata": {},
   "outputs": [],
   "source": [
    "hydrogens = {\n",
    "    'a':(1, 3.900),\n",
    "    'b':(9, 3.250)}\n",
    "\n",
    "j1 = ('a', 'b', 7.000)\n",
    "couplings = []"
   ]
  },
  {
   "cell_type": "code",
   "execution_count": 16,
   "metadata": {},
   "outputs": [],
   "source": [
    "betaine = molecule(hydrogens=hydrogens, couplings=couplings)"
   ]
  },
  {
   "cell_type": "code",
   "execution_count": 17,
   "metadata": {},
   "outputs": [],
   "source": [
    "molecules = {\n",
    "    'A':(ethanol, 0.523),\n",
    "    'B':(lactate, 0.782),\n",
    "    'C':(betaine, 1.321)}"
   ]
  },
  {
   "cell_type": "code",
   "execution_count": 19,
   "metadata": {},
   "outputs": [],
   "source": [
    "nmr_sample = sample(molecules=molecules)"
   ]
  },
  {
   "cell_type": "code",
   "execution_count": 79,
   "metadata": {},
   "outputs": [
    {
     "data": {
      "text/plain": [
       "{'molecules': {'A': (<ftnmr.molecule at 0x7f85365120d0>, 0.523),\n",
       "  'B': (<ftnmr.molecule at 0x7f8536512610>, 0.782),\n",
       "  'C': (<ftnmr.molecule at 0x7f8536512130>, 1.321)},\n",
       " 'T2': 100.0,\n",
       " 'r': 0.01,\n",
       " 'timeunit': 'msec'}"
      ]
     },
     "execution_count": 79,
     "metadata": {},
     "output_type": "execute_result"
    }
   ],
   "source": [
    "nmr_sample.__dict__"
   ]
  },
  {
   "cell_type": "code",
   "execution_count": 65,
   "metadata": {},
   "outputs": [
    {
     "data": {
      "text/plain": [
       "{'A': (<ftnmr.molecule at 0x7f85365120d0>, 0.523),\n",
       " 'B': (<ftnmr.molecule at 0x7f8536512610>, 0.782),\n",
       " 'C': (<ftnmr.molecule at 0x7f8536512130>, 1.321)}"
      ]
     },
     "execution_count": 65,
     "metadata": {},
     "output_type": "execute_result"
    }
   ],
   "source": [
    "molecules"
   ]
  },
  {
   "cell_type": "code",
   "execution_count": 120,
   "metadata": {},
   "outputs": [
    {
     "data": {
      "text/plain": [
       "{'a': (3, 1.1), 'b': (2, 3.6), 'c': (1, 3.25)}"
      ]
     },
     "execution_count": 120,
     "metadata": {},
     "output_type": "execute_result"
    }
   ],
   "source": [
    "nmr_sample.molecules['A'][0].hydrogens"
   ]
  },
  {
   "cell_type": "code",
   "execution_count": 135,
   "metadata": {},
   "outputs": [
    {
     "data": {
      "text/plain": [
       "{'a': (array([-5.,  0.,  5.]), array([0.25, 0.5 , 0.25])),\n",
       " 'b': (array([-7.5, -2.5,  2.5,  7.5]), array([0.125, 0.375, 0.375, 0.125]))}"
      ]
     },
     "execution_count": 135,
     "metadata": {},
     "output_type": "execute_result"
    }
   ],
   "source": [
    "# number of 'a' group hydrogens of 'A' molecule of the sample\n",
    "nmr_sample.molecules['A'][0].splits"
   ]
  },
  {
   "cell_type": "code",
   "execution_count": 77,
   "metadata": {},
   "outputs": [
    {
     "data": {
      "text/plain": [
       "1.1"
      ]
     },
     "execution_count": 77,
     "metadata": {},
     "output_type": "execute_result"
    }
   ],
   "source": [
    "# chemical shift of 'a' group hydrogens of 'A' molecule of the sample\n",
    "nmr_sample.molecules['A'][0].hydrogens['a'][1]"
   ]
  },
  {
   "cell_type": "code",
   "execution_count": 162,
   "metadata": {},
   "outputs": [
    {
     "data": {
      "text/plain": [
       "True"
      ]
     },
     "execution_count": 162,
     "metadata": {},
     "output_type": "execute_result"
    }
   ],
   "source": [
    "'a' in nmr_sample.molecules['B'][0].splits"
   ]
  },
  {
   "cell_type": "code",
   "execution_count": 249,
   "metadata": {},
   "outputs": [],
   "source": [
    "RH = 12"
   ]
  },
  {
   "cell_type": "code",
   "execution_count": 103,
   "metadata": {},
   "outputs": [],
   "source": [
    "test = [f'{x}_{y}' for x in asc[:4] for y in asc[:6]]"
   ]
  },
  {
   "cell_type": "code",
   "execution_count": 219,
   "metadata": {},
   "outputs": [],
   "source": [
    "moles = nmr_sample.molecules"
   ]
  },
  {
   "cell_type": "code",
   "execution_count": 332,
   "metadata": {},
   "outputs": [
    {
     "data": {
      "text/plain": [
       "3.272603670972128"
      ]
     },
     "execution_count": 332,
     "metadata": {},
     "output_type": "execute_result"
    }
   ],
   "source": [
    "9628/2942"
   ]
  },
  {
   "cell_type": "code",
   "execution_count": 330,
   "metadata": {},
   "outputs": [
    {
     "data": {
      "text/plain": [
       "{'a': (3, 1.1), 'b': (2, 3.6), 'c': (1, 3.25)}"
      ]
     },
     "execution_count": 330,
     "metadata": {},
     "output_type": "execute_result"
    }
   ],
   "source": [
    "moles['A'][0].hydrogens"
   ]
  },
  {
   "cell_type": "code",
   "execution_count": 335,
   "metadata": {},
   "outputs": [],
   "source": [
    "test1 = {\n",
    "    f'{x}_{y}{0:+}': (\n",
    "        pow(10, -6)*moles[x][0].hydrogens[y][1]*gamma*B,\n",
    "        moles[x][1]*moles[x][0].hydrogens[y][0]/RH)\n",
    "    for x in moles for y in moles[x][0].hydrogens if y not in moles[x][0].splits}"
   ]
  },
  {
   "cell_type": "code",
   "execution_count": 336,
   "metadata": {},
   "outputs": [
    {
     "data": {
      "text/plain": [
       "{'A_c+0': (8694.471091799998, 0.043583333333333335),\n",
       " 'C_a+0': (10433.365310159998, 0.11008333333333332),\n",
       " 'C_b+0': (8694.471091799998, 0.9907499999999999)}"
      ]
     },
     "execution_count": 336,
     "metadata": {},
     "output_type": "execute_result"
    }
   ],
   "source": [
    "test1"
   ]
  },
  {
   "cell_type": "code",
   "execution_count": 319,
   "metadata": {},
   "outputs": [],
   "source": [
    "test2 = {\n",
    "    f'{x}_{y}{z:+}': (\n",
    "        pow(10, -6)*moles[x][0].hydrogens[y][1]*gamma*B + z,\n",
    "        moles[x][1]*moles[x][0].hydrogens[y][0]*k/RH)\n",
    "    for x in moles for y in moles[x][0].splits\n",
    "    for z, k in zip(moles[x][0].splits[y][0], moles[x][0].splits[y][1])}"
   ]
  },
  {
   "cell_type": "code",
   "execution_count": 320,
   "metadata": {},
   "outputs": [
    {
     "data": {
      "text/plain": [
       "{'A_a-5.0': (2937.7440618399996, 0.0326875),\n",
       " 'A_a+0.0': (2942.7440618399996, 0.065375),\n",
       " 'A_a+5.0': (2947.7440618399996, 0.0326875),\n",
       " 'A_b-7.5': (9623.298747839997, 0.010895833333333334),\n",
       " 'A_b-2.5': (9628.298747839997, 0.0326875),\n",
       " 'A_b+2.5': (9633.298747839997, 0.0326875),\n",
       " 'A_b+7.5': (9638.298747839997, 0.010895833333333334),\n",
       " 'B_a-3.5': (3474.28843672, 0.09775),\n",
       " 'B_a+3.5': (3481.28843672, 0.09775),\n",
       " 'B_b-10.5': (10957.909685039998, 0.008145833333333333),\n",
       " 'B_b-3.5': (10964.909685039998, 0.0244375),\n",
       " 'B_b+3.5': (10971.909685039998, 0.0244375),\n",
       " 'B_b+10.5': (10978.909685039998, 0.008145833333333333)}"
      ]
     },
     "execution_count": 320,
     "metadata": {},
     "output_type": "execute_result"
    }
   ],
   "source": [
    "test2"
   ]
  },
  {
   "cell_type": "code",
   "execution_count": 242,
   "metadata": {},
   "outputs": [],
   "source": [
    "test3 = [f'{x}{y:+}' for x in test2 for y in test2[x][0]]"
   ]
  },
  {
   "cell_type": "code",
   "execution_count": 334,
   "metadata": {},
   "outputs": [
    {
     "data": {
      "text/plain": [
       "[1, 2, 3, 4, 5, 6]"
      ]
     },
     "execution_count": 334,
     "metadata": {},
     "output_type": "execute_result"
    }
   ],
   "source": [
    "[1, 2, 3] + [4, 5, 6]"
   ]
  },
  {
   "cell_type": "code",
   "execution_count": 302,
   "metadata": {},
   "outputs": [],
   "source": [
    "shift = 10\n",
    "B = 10"
   ]
  },
  {
   "cell_type": "code",
   "execution_count": 309,
   "metadata": {},
   "outputs": [],
   "source": [
    "w = pow(10, -6)*shift*gamma*B"
   ]
  },
  {
   "cell_type": "code",
   "execution_count": 310,
   "metadata": {},
   "outputs": [
    {
     "data": {
      "text/plain": [
       "26752.21874399999"
      ]
     },
     "execution_count": 310,
     "metadata": {},
     "output_type": "execute_result"
    }
   ],
   "source": [
    "w"
   ]
  },
  {
   "cell_type": "code",
   "execution_count": 311,
   "metadata": {},
   "outputs": [],
   "source": [
    "f0 = 0.5*w/np.pi"
   ]
  },
  {
   "cell_type": "code",
   "execution_count": 312,
   "metadata": {},
   "outputs": [
    {
     "data": {
      "text/plain": [
       "4257.747851783254"
      ]
     },
     "execution_count": 312,
     "metadata": {},
     "output_type": "execute_result"
    }
   ],
   "source": [
    "f0"
   ]
  },
  {
   "cell_type": "code",
   "execution_count": 36,
   "metadata": {},
   "outputs": [],
   "source": [
    "a0 = [1, 2, 3, 4]\n",
    "b0 = [4, 3, 2, 1]\n",
    "a1 = [1, 2, 3, 4]\n",
    "b1 = [4, 3, 2, 1]\n",
    "a2 = [1, 2, 3, 4]\n",
    "b2 = [4, 3, 2, 1]\n",
    "a3 = [1, 2, 3, 4]\n",
    "b3 = [4, 3, 2, 1]\n",
    "A = [a0, b0, a1, b1, a2, b2, a3, b3]"
   ]
  },
  {
   "cell_type": "code",
   "execution_count": 228,
   "metadata": {},
   "outputs": [
    {
     "data": {
      "text/plain": [
       "array([20, 20, 20, 20])"
      ]
     },
     "execution_count": 228,
     "metadata": {},
     "output_type": "execute_result"
    }
   ],
   "source": [
    "np.sum(A,axis=0) # or axis=1"
   ]
  },
  {
   "cell_type": "code",
   "execution_count": 56,
   "metadata": {},
   "outputs": [],
   "source": [
    "class foo():\n",
    "    aa = 123123\n",
    "    def __init__(self):\n",
    "        self.b = self.aa"
   ]
  },
  {
   "cell_type": "code",
   "execution_count": 58,
   "metadata": {},
   "outputs": [
    {
     "data": {
      "text/plain": [
       "123123"
      ]
     },
     "execution_count": 58,
     "metadata": {},
     "output_type": "execute_result"
    }
   ],
   "source": [
    "babo.b"
   ]
  },
  {
   "cell_type": "code",
   "execution_count": null,
   "metadata": {},
   "outputs": [],
   "source": []
  }
 ],
 "metadata": {
  "kernelspec": {
   "display_name": "Python 3",
   "language": "python",
   "name": "python3"
  },
  "language_info": {
   "codemirror_mode": {
    "name": "ipython",
    "version": 3
   },
   "file_extension": ".py",
   "mimetype": "text/x-python",
   "name": "python",
   "nbconvert_exporter": "python",
   "pygments_lexer": "ipython3",
   "version": "3.8.3"
  }
 },
 "nbformat": 4,
 "nbformat_minor": 4
}
