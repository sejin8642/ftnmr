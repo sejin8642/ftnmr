{
 "cells": [
  {
   "cell_type": "code",
   "execution_count": 1,
   "metadata": {},
   "outputs": [],
   "source": [
    "%matplotlib inline"
   ]
  },
  {
   "cell_type": "code",
   "execution_count": 2,
   "metadata": {},
   "outputs": [],
   "source": [
    "%load_ext autoreload"
   ]
  },
  {
   "cell_type": "code",
   "execution_count": 3,
   "metadata": {},
   "outputs": [],
   "source": [
    "%autoreload 2"
   ]
  },
  {
   "cell_type": "code",
   "execution_count": 4,
   "metadata": {},
   "outputs": [],
   "source": [
    "import numpy as np\n",
    "import matplotlib.pyplot as plt\n",
    "import scipy"
   ]
  },
  {
   "cell_type": "code",
   "execution_count": 188,
   "metadata": {},
   "outputs": [],
   "source": [
    "from ftnmr import *"
   ]
  },
  {
   "cell_type": "markdown",
   "metadata": {},
   "source": [
    "Hydrogens and their frequencies and ratios"
   ]
  },
  {
   "cell_type": "code",
   "execution_count": 66,
   "metadata": {},
   "outputs": [],
   "source": [
    "from string import ascii_lowercase as asc"
   ]
  },
  {
   "cell_type": "code",
   "execution_count": 6,
   "metadata": {},
   "outputs": [],
   "source": [
    "from scipy.special import binom"
   ]
  },
  {
   "cell_type": "code",
   "execution_count": 7,
   "metadata": {},
   "outputs": [],
   "source": [
    "A = {\n",
    "    'a':(1, 2.3),\n",
    "    'b':(1, 3.3),\n",
    "    'c':(3, 4.5)}\n",
    "\n",
    "j1 = ('a', 'b', 3.200)\n",
    "j2 = ('b', 'c', 3.200)\n",
    "B = [j1, j2]"
   ]
  },
  {
   "cell_type": "code",
   "execution_count": 87,
   "metadata": {},
   "outputs": [
    {
     "name": "stdout",
     "output_type": "stream",
     "text": [
      "{'a': [], 'b': [], 'c': []}\n"
     ]
    },
    {
     "data": {
      "text/plain": [
       "{'a': [(3.2, 1)], 'b': [(3.2, 1), (3.2, 3)], 'c': [(3.2, 1)]}"
      ]
     },
     "execution_count": 87,
     "metadata": {},
     "output_type": "execute_result"
    }
   ],
   "source": [
    "C = {a:[] for a in A}\n",
    "print(C)\n",
    "\n",
    "for k in A:\n",
    "    for b in B:\n",
    "        if k == b[0]: C[k].append( (b[2], A[b[1]][0]) )\n",
    "        elif k == b[1]: C[k].append( (b[2], A[b[0]][0]) )\n",
    "\n",
    "C"
   ]
  },
  {
   "cell_type": "code",
   "execution_count": 93,
   "metadata": {},
   "outputs": [
    {
     "data": {
      "text/plain": [
       "{'a': ([array([-1.6,  1.6])], [array([0.5, 0.5])]),\n",
       " 'b': ([array([-1.6,  1.6]), array([-4.8, -1.6,  1.6,  4.8])],\n",
       "  [array([0.5, 0.5]), array([0.125, 0.375, 0.375, 0.125])]),\n",
       " 'c': ([array([-1.6,  1.6])], [array([0.5, 0.5])])}"
      ]
     },
     "execution_count": 93,
     "metadata": {},
     "output_type": "execute_result"
    }
   ],
   "source": [
    "F = {a:([], []) for a in A}\n",
    "for k in A:\n",
    "    for b, d in C[k]:\n",
    "        F[k][0].append( np.array([n*b/2 for n in range(-d, d+1, 2)]) )\n",
    "        F[k][1].append( np.array([binom(d, x)/pow(2,d) for x in range(0, d+1)]))\n",
    "\n",
    "F"
   ]
  },
  {
   "cell_type": "code",
   "execution_count": 23,
   "metadata": {},
   "outputs": [
    {
     "data": {
      "text/plain": [
       "{'a': ([[-1.6, 1.6]], [[0.5, 0.5]]),\n",
       " 'b': ([[-1.6, 1.6], [-4.800000000000001, -1.6, 1.6, 4.800000000000001]],\n",
       "  [[0.5, 0.5], [0.125, 0.375, 0.375, 0.125]]),\n",
       " 'c': ([[-1.6, 1.6]], [[0.5, 0.5]])}"
      ]
     },
     "execution_count": 23,
     "metadata": {},
     "output_type": "execute_result"
    }
   ],
   "source": [
    "# this combines the above two cells into one\n",
    "\n",
    "F = {a:([], []) for a in A}\n",
    "\n",
    "for k in A:\n",
    "    for b in B:\n",
    "        if k == b[0]: \n",
    "            d = A[b[1]][0]\n",
    "            F[k][0].append( [n*b[2]/2 for n in range(-d, d+1, 2)] )\n",
    "            F[k][1].append( [binom(d, x)/pow(2,d) for x in range(0, d+1)] )\n",
    "        elif k == b[1]: \n",
    "            d = A[b[0]][0]\n",
    "            F[k][0].append( [n*b[2]/2 for n in range(-d, d+1, 2)] )\n",
    "            F[k][1].append( [binom(d, x)/pow(2,d) for x in range(0, d+1)] )\n",
    "\n",
    "F"
   ]
  },
  {
   "cell_type": "code",
   "execution_count": 10,
   "metadata": {},
   "outputs": [],
   "source": [
    "from itertools import product"
   ]
  },
  {
   "cell_type": "code",
   "execution_count": 102,
   "metadata": {},
   "outputs": [
    {
     "data": {
      "text/plain": [
       "{'a': ([-1.6, 1.6], [0.5, 0.5]),\n",
       " 'b': ([-6.4,\n",
       "   -3.2,\n",
       "   0.0,\n",
       "   3.2000000000000006,\n",
       "   -3.2000000000000006,\n",
       "   0.0,\n",
       "   3.2,\n",
       "   6.4],\n",
       "  [0.0625, 0.1875, 0.1875, 0.0625, 0.0625, 0.1875, 0.1875, 0.0625]),\n",
       " 'c': ([-1.6, 1.6], [0.5, 0.5])}"
      ]
     },
     "execution_count": 102,
     "metadata": {},
     "output_type": "execute_result"
    }
   ],
   "source": [
    "G = {a:([], []) for a in A}\n",
    "\n",
    "for k in A:\n",
    "    for i in product(*F[k][0]):\n",
    "        G[k][0].append(sum(i))\n",
    "        \n",
    "    for i in product(*F[k][1]):\n",
    "        G[k][1].append(np.prod(i))\n",
    "\n",
    "G"
   ]
  },
  {
   "cell_type": "code",
   "execution_count": 117,
   "metadata": {},
   "outputs": [
    {
     "data": {
      "text/plain": [
       "{'a': ([-1.6, 1.6], [0.5, 0.5]),\n",
       " 'b': ([-6.4,\n",
       "   -3.2000000000000006,\n",
       "   -3.2,\n",
       "   0.0,\n",
       "   0.0,\n",
       "   3.2,\n",
       "   3.2000000000000006,\n",
       "   6.4],\n",
       "  [0.0625, 0.0625, 0.1875, 0.1875, 0.1875, 0.1875, 0.0625, 0.0625]),\n",
       " 'c': ([-1.6, 1.6], [0.5, 0.5])}"
      ]
     },
     "execution_count": 117,
     "metadata": {},
     "output_type": "execute_result"
    }
   ],
   "source": [
    "I = {k:([],[]) for k in A}\n",
    "\n",
    "for k in A:\n",
    "    for n in np.argsort(H[k][0]):\n",
    "        I[k][0].append(H[k][0][n])\n",
    "        I[k][1].append(H[k][1][n])\n",
    "\n",
    "I"
   ]
  },
  {
   "cell_type": "code",
   "execution_count": 102,
   "metadata": {},
   "outputs": [
    {
     "data": {
      "text/plain": [
       "{'a': ([-1.6, 1.6], [0.5, 0.5]),\n",
       " 'b': ([-6.4, -3.2000000000000006, 0.0, 3.2, 6.4],\n",
       "  [0.0625, 0.25, 0.375, 0.25, 0.0625]),\n",
       " 'c': ([-1.6, 1.6], [0.5, 0.5])}"
      ]
     },
     "execution_count": 102,
     "metadata": {},
     "output_type": "execute_result"
    }
   ],
   "source": [
    "K = {k:([J0[k][0]],[J1[k][0]]) for k in A}\n",
    "\n",
    "for k in A:\n",
    "    for i in range(1, len(J[k][0])):\n",
    "        if np.isclose(K[k][0][-1], J[k][0][i]):\n",
    "            K[k][1][-1] += J[k][1][i]\n",
    "        else:\n",
    "            K[k][0].append(J[k][0][i])\n",
    "            K[k][1].append(J[k][1][i])\n",
    "\n",
    "K"
   ]
  },
  {
   "cell_type": "code",
   "execution_count": null,
   "metadata": {},
   "outputs": [],
   "source": []
  },
  {
   "cell_type": "markdown",
   "metadata": {},
   "source": [
    "Molecule construction"
   ]
  },
  {
   "cell_type": "code",
   "execution_count": 183,
   "metadata": {},
   "outputs": [],
   "source": [
    "hydrogens = {\n",
    "        'a':(3, 2.3),\n",
    "        'b':(4, 3.3),\n",
    "        'c':(4, 4.5)}\n",
    "\n",
    "j1 = ('a', 'b', 4.200)\n",
    "# j2 = ('b', 'c', 2.200)\n",
    "# B = [j1, j2]\n",
    "couplings = [j1]"
   ]
  },
  {
   "cell_type": "code",
   "execution_count": 184,
   "metadata": {},
   "outputs": [],
   "source": [
    "A = list(dict.fromkeys([k for b in couplings for k in b[:-1]]))"
   ]
  },
  {
   "cell_type": "code",
   "execution_count": 185,
   "metadata": {},
   "outputs": [
    {
     "data": {
      "text/plain": [
       "['a', 'b']"
      ]
     },
     "execution_count": 185,
     "metadata": {},
     "output_type": "execute_result"
    }
   ],
   "source": [
    "A"
   ]
  },
  {
   "cell_type": "code",
   "execution_count": 186,
   "metadata": {},
   "outputs": [],
   "source": [
    "from itertools import product\n",
    "A = list(dict.fromkeys([k for b in couplings for k in b[:-1]]))\n",
    "C = {k:[ (b[2], hydrogens[ b[ 1-b.index(k) ] ][0]) for b in B if k in b] for k in A}\n",
    "\n",
    "F0 = {k:[ [n*b/2 for n in range(-d, d+1, 2)] for b, d in C[k]] for k in A}\n",
    "F1 = {k:[ [binom(d, x)/pow(2,d) for x in range(0, d+1)] for b, d in C[k]] for k in A}\n",
    "G0 = {k:[ sum(i) for i in product(*F0[k]) ] for k in A}\n",
    "G1 = {k:[ np.prod(i) for i in product(*F1[k]) ] for k in A}\n",
    "J0 = {k:[G0[k][n] for n in np.argsort(G0[k])] for k in A}\n",
    "J1 = {k:[G1[k][n] for n in np.argsort(G0[k])] for k in A}\n",
    "\n",
    "ind = lambda k: filter(lambda i: not np.isclose(J0[k][i-1], J0[k][i]), range(0, len(J0[k])))\n",
    "K0 = {k:[J0[k][i] for i in ind(k)] for k in A}\n",
    "K1 = {k:[J1[k][i] for i in ind(k)] for k in A}\n",
    "\n",
    "dup = lambda k: filter(lambda i: np.isclose(J0[k][i-1], J0[k][i]), range(0, len(J0[k])))\n",
    "for k in A:\n",
    "    n = 0\n",
    "    for i in dup(k):\n",
    "        K1[k][i-1-n] += J1[k][i]\n",
    "        n += 1"
   ]
  },
  {
   "cell_type": "code",
   "execution_count": 187,
   "metadata": {},
   "outputs": [
    {
     "data": {
      "text/plain": [
       "[-6.300000000000001, -2.1, 2.1, 6.300000000000001]"
      ]
     },
     "execution_count": 187,
     "metadata": {},
     "output_type": "execute_result"
    }
   ],
   "source": [
    "K0['b']"
   ]
  },
  {
   "cell_type": "code",
   "execution_count": 189,
   "metadata": {},
   "outputs": [],
   "source": [
    "hydrogens = {\n",
    "        'a':(3, 1.100),\n",
    "        'b':(2, 3.600),\n",
    "        'c':(1, 3.250)}\n",
    "\n",
    "j1 = ('a', 'b', 5.000)\n",
    "couplings = [j1]"
   ]
  },
  {
   "cell_type": "code",
   "execution_count": 190,
   "metadata": {},
   "outputs": [
    {
     "ename": "NameError",
     "evalue": "free variable 'B' referenced before assignment in enclosing scope",
     "output_type": "error",
     "traceback": [
      "\u001b[0;31m---------------------------------------------------------------------------\u001b[0m",
      "\u001b[0;31mNameError\u001b[0m                                 Traceback (most recent call last)",
      "\u001b[0;32m<ipython-input-190-b5e12eeb0654>\u001b[0m in \u001b[0;36m<module>\u001b[0;34m\u001b[0m\n\u001b[0;32m----> 1\u001b[0;31m \u001b[0methanol\u001b[0m \u001b[0;34m=\u001b[0m \u001b[0mmolecule\u001b[0m\u001b[0;34m(\u001b[0m\u001b[0mhydrogens\u001b[0m\u001b[0;34m=\u001b[0m\u001b[0mhydrogens\u001b[0m\u001b[0;34m,\u001b[0m \u001b[0mcouplings\u001b[0m\u001b[0;34m=\u001b[0m\u001b[0mcouplings\u001b[0m\u001b[0;34m)\u001b[0m\u001b[0;34m\u001b[0m\u001b[0;34m\u001b[0m\u001b[0m\n\u001b[0m",
      "\u001b[0;32m~/gd/ftnmr/scripts/ftnmr.py\u001b[0m in \u001b[0;36m__init__\u001b[0;34m(self, hydrogens, couplings)\u001b[0m\n\u001b[1;32m     57\u001b[0m         \"\"\" \n\u001b[1;32m     58\u001b[0m         \u001b[0mA\u001b[0m \u001b[0;34m=\u001b[0m \u001b[0mlist\u001b[0m\u001b[0;34m(\u001b[0m\u001b[0mdict\u001b[0m\u001b[0;34m.\u001b[0m\u001b[0mfromkeys\u001b[0m\u001b[0;34m(\u001b[0m\u001b[0;34m[\u001b[0m\u001b[0mk\u001b[0m \u001b[0;32mfor\u001b[0m \u001b[0mb\u001b[0m \u001b[0;32min\u001b[0m \u001b[0mcouplings\u001b[0m \u001b[0;32mfor\u001b[0m \u001b[0mk\u001b[0m \u001b[0;32min\u001b[0m \u001b[0mb\u001b[0m\u001b[0;34m[\u001b[0m\u001b[0;34m:\u001b[0m\u001b[0;34m-\u001b[0m\u001b[0;36m1\u001b[0m\u001b[0;34m]\u001b[0m\u001b[0;34m]\u001b[0m\u001b[0;34m)\u001b[0m\u001b[0;34m)\u001b[0m\u001b[0;34m\u001b[0m\u001b[0;34m\u001b[0m\u001b[0m\n\u001b[0;32m---> 59\u001b[0;31m         \u001b[0mB\u001b[0m \u001b[0;34m=\u001b[0m \u001b[0;34m{\u001b[0m\u001b[0mk\u001b[0m\u001b[0;34m:\u001b[0m\u001b[0;34m[\u001b[0m \u001b[0;34m(\u001b[0m\u001b[0mb\u001b[0m\u001b[0;34m[\u001b[0m\u001b[0;36m2\u001b[0m\u001b[0;34m]\u001b[0m\u001b[0;34m,\u001b[0m \u001b[0mhydrogens\u001b[0m\u001b[0;34m[\u001b[0m \u001b[0mb\u001b[0m\u001b[0;34m[\u001b[0m \u001b[0;36m1\u001b[0m\u001b[0;34m-\u001b[0m\u001b[0mb\u001b[0m\u001b[0;34m.\u001b[0m\u001b[0mindex\u001b[0m\u001b[0;34m(\u001b[0m\u001b[0mk\u001b[0m\u001b[0;34m)\u001b[0m \u001b[0;34m]\u001b[0m \u001b[0;34m]\u001b[0m\u001b[0;34m[\u001b[0m\u001b[0;36m0\u001b[0m\u001b[0;34m]\u001b[0m\u001b[0;34m)\u001b[0m \u001b[0;32mfor\u001b[0m \u001b[0mb\u001b[0m \u001b[0;32min\u001b[0m \u001b[0mB\u001b[0m \u001b[0;32mif\u001b[0m \u001b[0mk\u001b[0m \u001b[0;32min\u001b[0m \u001b[0mb\u001b[0m\u001b[0;34m]\u001b[0m \u001b[0;32mfor\u001b[0m \u001b[0mk\u001b[0m \u001b[0;32min\u001b[0m \u001b[0mA\u001b[0m\u001b[0;34m}\u001b[0m\u001b[0;34m\u001b[0m\u001b[0;34m\u001b[0m\u001b[0m\n\u001b[0m\u001b[1;32m     60\u001b[0m \u001b[0;34m\u001b[0m\u001b[0m\n\u001b[1;32m     61\u001b[0m         \u001b[0mC0\u001b[0m \u001b[0;34m=\u001b[0m \u001b[0;34m{\u001b[0m\u001b[0mk\u001b[0m\u001b[0;34m:\u001b[0m\u001b[0;34m[\u001b[0m \u001b[0;34m[\u001b[0m\u001b[0mn\u001b[0m\u001b[0;34m*\u001b[0m\u001b[0mb\u001b[0m\u001b[0;34m/\u001b[0m\u001b[0;36m2\u001b[0m \u001b[0;32mfor\u001b[0m \u001b[0mn\u001b[0m \u001b[0;32min\u001b[0m \u001b[0mrange\u001b[0m\u001b[0;34m(\u001b[0m\u001b[0;34m-\u001b[0m\u001b[0md\u001b[0m\u001b[0;34m,\u001b[0m \u001b[0md\u001b[0m\u001b[0;34m+\u001b[0m\u001b[0;36m1\u001b[0m\u001b[0;34m,\u001b[0m \u001b[0;36m2\u001b[0m\u001b[0;34m)\u001b[0m \u001b[0;34m]\u001b[0m \u001b[0;32mfor\u001b[0m \u001b[0mb\u001b[0m\u001b[0;34m,\u001b[0m \u001b[0md\u001b[0m \u001b[0;32min\u001b[0m \u001b[0mB\u001b[0m\u001b[0;34m[\u001b[0m\u001b[0mk\u001b[0m\u001b[0;34m]\u001b[0m\u001b[0;34m]\u001b[0m \u001b[0;32mfor\u001b[0m \u001b[0mk\u001b[0m \u001b[0;32min\u001b[0m \u001b[0mA\u001b[0m\u001b[0;34m}\u001b[0m\u001b[0;34m\u001b[0m\u001b[0;34m\u001b[0m\u001b[0m\n",
      "\u001b[0;32m~/gd/ftnmr/scripts/ftnmr.py\u001b[0m in \u001b[0;36m<dictcomp>\u001b[0;34m(.0)\u001b[0m\n\u001b[1;32m     57\u001b[0m         \"\"\" \n\u001b[1;32m     58\u001b[0m         \u001b[0mA\u001b[0m \u001b[0;34m=\u001b[0m \u001b[0mlist\u001b[0m\u001b[0;34m(\u001b[0m\u001b[0mdict\u001b[0m\u001b[0;34m.\u001b[0m\u001b[0mfromkeys\u001b[0m\u001b[0;34m(\u001b[0m\u001b[0;34m[\u001b[0m\u001b[0mk\u001b[0m \u001b[0;32mfor\u001b[0m \u001b[0mb\u001b[0m \u001b[0;32min\u001b[0m \u001b[0mcouplings\u001b[0m \u001b[0;32mfor\u001b[0m \u001b[0mk\u001b[0m \u001b[0;32min\u001b[0m \u001b[0mb\u001b[0m\u001b[0;34m[\u001b[0m\u001b[0;34m:\u001b[0m\u001b[0;34m-\u001b[0m\u001b[0;36m1\u001b[0m\u001b[0;34m]\u001b[0m\u001b[0;34m]\u001b[0m\u001b[0;34m)\u001b[0m\u001b[0;34m)\u001b[0m\u001b[0;34m\u001b[0m\u001b[0;34m\u001b[0m\u001b[0m\n\u001b[0;32m---> 59\u001b[0;31m         \u001b[0mB\u001b[0m \u001b[0;34m=\u001b[0m \u001b[0;34m{\u001b[0m\u001b[0mk\u001b[0m\u001b[0;34m:\u001b[0m\u001b[0;34m[\u001b[0m \u001b[0;34m(\u001b[0m\u001b[0mb\u001b[0m\u001b[0;34m[\u001b[0m\u001b[0;36m2\u001b[0m\u001b[0;34m]\u001b[0m\u001b[0;34m,\u001b[0m \u001b[0mhydrogens\u001b[0m\u001b[0;34m[\u001b[0m \u001b[0mb\u001b[0m\u001b[0;34m[\u001b[0m \u001b[0;36m1\u001b[0m\u001b[0;34m-\u001b[0m\u001b[0mb\u001b[0m\u001b[0;34m.\u001b[0m\u001b[0mindex\u001b[0m\u001b[0;34m(\u001b[0m\u001b[0mk\u001b[0m\u001b[0;34m)\u001b[0m \u001b[0;34m]\u001b[0m \u001b[0;34m]\u001b[0m\u001b[0;34m[\u001b[0m\u001b[0;36m0\u001b[0m\u001b[0;34m]\u001b[0m\u001b[0;34m)\u001b[0m \u001b[0;32mfor\u001b[0m \u001b[0mb\u001b[0m \u001b[0;32min\u001b[0m \u001b[0mB\u001b[0m \u001b[0;32mif\u001b[0m \u001b[0mk\u001b[0m \u001b[0;32min\u001b[0m \u001b[0mb\u001b[0m\u001b[0;34m]\u001b[0m \u001b[0;32mfor\u001b[0m \u001b[0mk\u001b[0m \u001b[0;32min\u001b[0m \u001b[0mA\u001b[0m\u001b[0;34m}\u001b[0m\u001b[0;34m\u001b[0m\u001b[0;34m\u001b[0m\u001b[0m\n\u001b[0m\u001b[1;32m     60\u001b[0m \u001b[0;34m\u001b[0m\u001b[0m\n\u001b[1;32m     61\u001b[0m         \u001b[0mC0\u001b[0m \u001b[0;34m=\u001b[0m \u001b[0;34m{\u001b[0m\u001b[0mk\u001b[0m\u001b[0;34m:\u001b[0m\u001b[0;34m[\u001b[0m \u001b[0;34m[\u001b[0m\u001b[0mn\u001b[0m\u001b[0;34m*\u001b[0m\u001b[0mb\u001b[0m\u001b[0;34m/\u001b[0m\u001b[0;36m2\u001b[0m \u001b[0;32mfor\u001b[0m \u001b[0mn\u001b[0m \u001b[0;32min\u001b[0m \u001b[0mrange\u001b[0m\u001b[0;34m(\u001b[0m\u001b[0;34m-\u001b[0m\u001b[0md\u001b[0m\u001b[0;34m,\u001b[0m \u001b[0md\u001b[0m\u001b[0;34m+\u001b[0m\u001b[0;36m1\u001b[0m\u001b[0;34m,\u001b[0m \u001b[0;36m2\u001b[0m\u001b[0;34m)\u001b[0m \u001b[0;34m]\u001b[0m \u001b[0;32mfor\u001b[0m \u001b[0mb\u001b[0m\u001b[0;34m,\u001b[0m \u001b[0md\u001b[0m \u001b[0;32min\u001b[0m \u001b[0mB\u001b[0m\u001b[0;34m[\u001b[0m\u001b[0mk\u001b[0m\u001b[0;34m]\u001b[0m\u001b[0;34m]\u001b[0m \u001b[0;32mfor\u001b[0m \u001b[0mk\u001b[0m \u001b[0;32min\u001b[0m \u001b[0mA\u001b[0m\u001b[0;34m}\u001b[0m\u001b[0;34m\u001b[0m\u001b[0;34m\u001b[0m\u001b[0m\n",
      "\u001b[0;31mNameError\u001b[0m: free variable 'B' referenced before assignment in enclosing scope"
     ]
    }
   ],
   "source": [
    "ethanol = molecule(hydrogens=hydrogens, couplings=couplings)"
   ]
  },
  {
   "cell_type": "code",
   "execution_count": 136,
   "metadata": {},
   "outputs": [
    {
     "data": {
      "text/plain": [
       "True"
      ]
     },
     "execution_count": 136,
     "metadata": {},
     "output_type": "execute_result"
    }
   ],
   "source": [
    "'c' in hydrogens"
   ]
  },
  {
   "cell_type": "code",
   "execution_count": null,
   "metadata": {},
   "outputs": [],
   "source": []
  }
 ],
 "metadata": {
  "kernelspec": {
   "display_name": "Python 3",
   "language": "python",
   "name": "python3"
  },
  "language_info": {
   "codemirror_mode": {
    "name": "ipython",
    "version": 3
   },
   "file_extension": ".py",
   "mimetype": "text/x-python",
   "name": "python",
   "nbconvert_exporter": "python",
   "pygments_lexer": "ipython3",
   "version": "3.8.3"
  }
 },
 "nbformat": 4,
 "nbformat_minor": 4
}
