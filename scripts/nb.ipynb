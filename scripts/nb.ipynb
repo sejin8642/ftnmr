{
 "cells": [
  {
   "cell_type": "code",
   "execution_count": 1,
   "metadata": {},
   "outputs": [],
   "source": [
    "%matplotlib inline"
   ]
  },
  {
   "cell_type": "code",
   "execution_count": 2,
   "metadata": {},
   "outputs": [],
   "source": [
    "%load_ext autoreload"
   ]
  },
  {
   "cell_type": "code",
   "execution_count": 3,
   "metadata": {},
   "outputs": [],
   "source": [
    "%autoreload 2"
   ]
  },
  {
   "cell_type": "code",
   "execution_count": 4,
   "metadata": {},
   "outputs": [],
   "source": [
    "import numpy as np\n",
    "import matplotlib.pyplot as plt\n",
    "import scipy"
   ]
  },
  {
   "cell_type": "code",
   "execution_count": 5,
   "metadata": {},
   "outputs": [],
   "source": [
    "from ftnmr import *"
   ]
  },
  {
   "cell_type": "markdown",
   "metadata": {},
   "source": [
    "Hydrogens and their frequencies and ratios"
   ]
  },
  {
   "cell_type": "code",
   "execution_count": 158,
   "metadata": {},
   "outputs": [],
   "source": [
    "from string import ascii_lowercase as asc\n",
    "from scipy.special import binom\n",
    "from itertools import product\n",
    "from timeit import timeit"
   ]
  },
  {
   "cell_type": "code",
   "execution_count": 27,
   "metadata": {},
   "outputs": [],
   "source": [
    "gamma = 267.52218744*pow(10, 6)\n",
    "B = 10.0"
   ]
  },
  {
   "cell_type": "code",
   "execution_count": 94,
   "metadata": {},
   "outputs": [
    {
     "name": "stdout",
     "output_type": "stream",
     "text": [
      "a\n",
      "b\n",
      "c\n",
      "d\n",
      "e\n"
     ]
    }
   ],
   "source": [
    "for x in asc[:5]:\n",
    "    print(x)"
   ]
  },
  {
   "cell_type": "code",
   "execution_count": 7,
   "metadata": {},
   "outputs": [],
   "source": [
    "A = {\n",
    "    'a':(1, 2.3),\n",
    "    'b':(1, 3.3),\n",
    "    'c':(3, 4.5)}\n",
    "\n",
    "j1 = ('a', 'b', 3.200)\n",
    "j2 = ('b', 'c', 3.200)\n",
    "B = [j1, j2]"
   ]
  },
  {
   "cell_type": "code",
   "execution_count": 87,
   "metadata": {},
   "outputs": [
    {
     "name": "stdout",
     "output_type": "stream",
     "text": [
      "{'a': [], 'b': [], 'c': []}\n"
     ]
    },
    {
     "data": {
      "text/plain": [
       "{'a': [(3.2, 1)], 'b': [(3.2, 1), (3.2, 3)], 'c': [(3.2, 1)]}"
      ]
     },
     "execution_count": 87,
     "metadata": {},
     "output_type": "execute_result"
    }
   ],
   "source": [
    "C = {a:[] for a in A}\n",
    "print(C)\n",
    "\n",
    "for k in A:\n",
    "    for b in B:\n",
    "        if k == b[0]: C[k].append( (b[2], A[b[1]][0]) )\n",
    "        elif k == b[1]: C[k].append( (b[2], A[b[0]][0]) )"
   ]
  },
  {
   "cell_type": "code",
   "execution_count": 93,
   "metadata": {},
   "outputs": [
    {
     "data": {
      "text/plain": [
       "{'a': ([array([-1.6,  1.6])], [array([0.5, 0.5])]),\n",
       " 'b': ([array([-1.6,  1.6]), array([-4.8, -1.6,  1.6,  4.8])],\n",
       "  [array([0.5, 0.5]), array([0.125, 0.375, 0.375, 0.125])]),\n",
       " 'c': ([array([-1.6,  1.6])], [array([0.5, 0.5])])}"
      ]
     },
     "execution_count": 93,
     "metadata": {},
     "output_type": "execute_result"
    }
   ],
   "source": [
    "F = {a:([], []) for a in A}\n",
    "for k in A:\n",
    "    for b, d in C[k]:\n",
    "        F[k][0].append( np.array([n*b/2 for n in range(-d, d+1, 2)]) )\n",
    "        F[k][1].append( np.array([binom(d, x)/pow(2,d) for x in range(0, d+1)]))"
   ]
  },
  {
   "cell_type": "code",
   "execution_count": 23,
   "metadata": {},
   "outputs": [
    {
     "data": {
      "text/plain": [
       "{'a': ([[-1.6, 1.6]], [[0.5, 0.5]]),\n",
       " 'b': ([[-1.6, 1.6], [-4.800000000000001, -1.6, 1.6, 4.800000000000001]],\n",
       "  [[0.5, 0.5], [0.125, 0.375, 0.375, 0.125]]),\n",
       " 'c': ([[-1.6, 1.6]], [[0.5, 0.5]])}"
      ]
     },
     "execution_count": 23,
     "metadata": {},
     "output_type": "execute_result"
    }
   ],
   "source": [
    "# this combines the above two cells into one\n",
    "\n",
    "F = {a:([], []) for a in A}\n",
    "\n",
    "for k in A:\n",
    "    for b in B:\n",
    "        if k == b[0]: \n",
    "            d = A[b[1]][0]\n",
    "            F[k][0].append( [n*b[2]/2 for n in range(-d, d+1, 2)] )\n",
    "            F[k][1].append( [binom(d, x)/pow(2,d) for x in range(0, d+1)] )\n",
    "        elif k == b[1]: \n",
    "            d = A[b[0]][0]\n",
    "            F[k][0].append( [n*b[2]/2 for n in range(-d, d+1, 2)] )\n",
    "            F[k][1].append( [binom(d, x)/pow(2,d) for x in range(0, d+1)] )"
   ]
  },
  {
   "cell_type": "code",
   "execution_count": 7,
   "metadata": {},
   "outputs": [],
   "source": [
    "from itertools import product"
   ]
  },
  {
   "cell_type": "code",
   "execution_count": 102,
   "metadata": {},
   "outputs": [
    {
     "data": {
      "text/plain": [
       "{'a': ([-1.6, 1.6], [0.5, 0.5]),\n",
       " 'b': ([-6.4,\n",
       "   -3.2,\n",
       "   0.0,\n",
       "   3.2000000000000006,\n",
       "   -3.2000000000000006,\n",
       "   0.0,\n",
       "   3.2,\n",
       "   6.4],\n",
       "  [0.0625, 0.1875, 0.1875, 0.0625, 0.0625, 0.1875, 0.1875, 0.0625]),\n",
       " 'c': ([-1.6, 1.6], [0.5, 0.5])}"
      ]
     },
     "execution_count": 102,
     "metadata": {},
     "output_type": "execute_result"
    }
   ],
   "source": [
    "G = {a:([], []) for a in A}\n",
    "\n",
    "for k in A:\n",
    "    for i in product(*F[k][0]):\n",
    "        G[k][0].append(sum(i))\n",
    "        \n",
    "    for i in product(*F[k][1]):\n",
    "        G[k][1].append(np.prod(i))"
   ]
  },
  {
   "cell_type": "code",
   "execution_count": 117,
   "metadata": {},
   "outputs": [
    {
     "data": {
      "text/plain": [
       "{'a': ([-1.6, 1.6], [0.5, 0.5]),\n",
       " 'b': ([-6.4,\n",
       "   -3.2000000000000006,\n",
       "   -3.2,\n",
       "   0.0,\n",
       "   0.0,\n",
       "   3.2,\n",
       "   3.2000000000000006,\n",
       "   6.4],\n",
       "  [0.0625, 0.0625, 0.1875, 0.1875, 0.1875, 0.1875, 0.0625, 0.0625]),\n",
       " 'c': ([-1.6, 1.6], [0.5, 0.5])}"
      ]
     },
     "execution_count": 117,
     "metadata": {},
     "output_type": "execute_result"
    }
   ],
   "source": [
    "I = {k:([],[]) for k in A}\n",
    "\n",
    "for k in A:\n",
    "    for n in np.argsort(H[k][0]):\n",
    "        I[k][0].append(H[k][0][n])\n",
    "        I[k][1].append(H[k][1][n])"
   ]
  },
  {
   "cell_type": "code",
   "execution_count": 102,
   "metadata": {},
   "outputs": [
    {
     "data": {
      "text/plain": [
       "{'a': ([-1.6, 1.6], [0.5, 0.5]),\n",
       " 'b': ([-6.4, -3.2000000000000006, 0.0, 3.2, 6.4],\n",
       "  [0.0625, 0.25, 0.375, 0.25, 0.0625]),\n",
       " 'c': ([-1.6, 1.6], [0.5, 0.5])}"
      ]
     },
     "execution_count": 102,
     "metadata": {},
     "output_type": "execute_result"
    }
   ],
   "source": [
    "K = {k:([J0[k][0]],[J1[k][0]]) for k in A}\n",
    "\n",
    "for k in A:\n",
    "    for i in range(1, len(J[k][0])):\n",
    "        if np.isclose(K[k][0][-1], J[k][0][i]):\n",
    "            K[k][1][-1] += J[k][1][i]\n",
    "        else:\n",
    "            K[k][0].append(J[k][0][i])\n",
    "            K[k][1].append(J[k][1][i])"
   ]
  },
  {
   "cell_type": "markdown",
   "metadata": {},
   "source": [
    "Molecule construction"
   ]
  },
  {
   "cell_type": "code",
   "execution_count": 8,
   "metadata": {},
   "outputs": [],
   "source": [
    "hydrogens = {\n",
    "        'a':(3, 2.3),\n",
    "        'b':(4, 3.3),\n",
    "        'c':(4, 4.5)}\n",
    "\n",
    "j1 = ('a', 'b', 2.000)\n",
    "j2 = ('b', 'c', 3.500)\n",
    "couplings = [j1, j2]"
   ]
  },
  {
   "cell_type": "code",
   "execution_count": 9,
   "metadata": {},
   "outputs": [],
   "source": [
    "from itertools import product\n",
    "A = list(dict.fromkeys([k for b in couplings for k in b[:-1]]))\n",
    "B = {k:[ (b[2], hydrogens[ b[ 1-b.index(k) ] ][0]) for b in couplings if k in b] for k in A}\n",
    "\n",
    "F0 = {k:[ [n*b/2 for n in range(-d, d+1, 2)] for b, d in B[k]] for k in A}\n",
    "F1 = {k:[ [binom(d, x)/pow(2,d) for x in range(0, d+1)] for b, d in B[k]] for k in A}\n",
    "G0 = {k:[ sum(i) for i in product(*F0[k]) ] for k in A}\n",
    "G1 = {k:[ np.prod(i) for i in product(*F1[k]) ] for k in A}\n",
    "J0 = {k:[G0[k][n] for n in np.argsort(G0[k])] for k in A}\n",
    "J1 = {k:[G1[k][n] for n in np.argsort(G0[k])] for k in A}\n",
    "\n",
    "ind = lambda k: filter(lambda i: not np.isclose(J0[k][i-1], J0[k][i]), range(0, len(J0[k])))\n",
    "K0 = {k:[J0[k][i] for i in ind(k)] for k in A}\n",
    "K1 = {k:[J1[k][i] for i in ind(k)] for k in A}\n",
    "\n",
    "dup = lambda k: filter(lambda i: np.isclose(J0[k][i-1], J0[k][i]), range(0, len(J0[k])))\n",
    "for k in A:\n",
    "    n = 0\n",
    "    for i in dup(k):\n",
    "        K1[k][i-1-n] += J1[k][i]\n",
    "        n += 1"
   ]
  },
  {
   "cell_type": "code",
   "execution_count": 10,
   "metadata": {},
   "outputs": [
    {
     "data": {
      "text/plain": [
       "1.0"
      ]
     },
     "execution_count": 10,
     "metadata": {},
     "output_type": "execute_result"
    }
   ],
   "source": [
    "sum(K1['b'])"
   ]
  },
  {
   "cell_type": "markdown",
   "metadata": {
    "jupyter": {
     "source_hidden": true
    }
   },
   "source": [
    "The representative spectrum 1H NMR obtained from serum samples of HC subjects. The following metabolites are identified: \n",
    "\n",
    "1, L_1; \n",
    "\n",
    "2, L_2; \n",
    "\n",
    "3, Isoleucine; \n",
    "\n",
    "4, Leucine; \n",
    "\n",
    "5, Valine; \n",
    "\n",
    "6, Unk_1; \n",
    "\n",
    "7, 3-Hydroxybutyrate; \n",
    "\n",
    "8, L_3; \n",
    "\n",
    "9, L_4; \n",
    "\n",
    "10, L_5; \n",
    "\n",
    "11, Lactate; \n",
    "\n",
    "12, Alanine; \n",
    "\n",
    "13, L_6; \n",
    "\n",
    "14, Acetate; \n",
    "\n",
    "15, L_7; \n",
    "\n",
    "16, L_8; \n",
    "\n",
    "17, NAC; \n",
    "\n",
    "18, Acetone; \n",
    "\n",
    "19, Acetoacetate; \n",
    "\n",
    "20, Pyruvate; \n",
    "\n",
    "21, Glutamine; \n",
    "\n",
    "22, Citrate; \n",
    "\n",
    "23, Unk_2; \n",
    "\n",
    "24, Creatine; \n",
    "\n",
    "25, Dimethyl sulfone; \n",
    "\n",
    "26, Chol+GPC+APC; \n",
    "\n",
    "27, Glucose; \n",
    "\n",
    "28, Betaine; \n",
    "\n",
    "29, Methanol; \n",
    "\n",
    "30, Glycerol; \n",
    "\n",
    "31, Creatinine; \n",
    "\n",
    "32, L_9; \n",
    "\n",
    "33, Tyrosine; \n",
    "\n",
    "34, π-Methylhistidine; \n",
    "\n",
    "35, Phenylalanine; \n",
    "\n",
    "36, Formate"
   ]
  },
  {
   "cell_type": "code",
   "execution_count": 8,
   "metadata": {},
   "outputs": [],
   "source": [
    "hydrogens = {\n",
    "    'a':(3, 1.100),\n",
    "    'b':(2, 3.600),\n",
    "    'c':(1, 3.250)}\n",
    "\n",
    "j1 = ('a', 'b', 5.000)\n",
    "couplings = [j1]"
   ]
  },
  {
   "cell_type": "code",
   "execution_count": 9,
   "metadata": {},
   "outputs": [],
   "source": [
    "ethanol = molecule(hydrogens=hydrogens, couplings=couplings)"
   ]
  },
  {
   "cell_type": "code",
   "execution_count": 10,
   "metadata": {},
   "outputs": [],
   "source": [
    "hydrogens = {\n",
    "    'a':(3, 1.300),\n",
    "    'b':(1, 4.100)}\n",
    "\n",
    "j1 = ('a', 'b', 7.000)\n",
    "couplings = [j1]"
   ]
  },
  {
   "cell_type": "code",
   "execution_count": 11,
   "metadata": {},
   "outputs": [],
   "source": [
    "lactate = molecule(hydrogens=hydrogens, couplings=couplings)"
   ]
  },
  {
   "cell_type": "code",
   "execution_count": 12,
   "metadata": {},
   "outputs": [],
   "source": [
    "hydrogens = {\n",
    "    'a':(1, 3.900),\n",
    "    'b':(9, 3.250)}\n",
    "\n",
    "couplings = []"
   ]
  },
  {
   "cell_type": "code",
   "execution_count": 13,
   "metadata": {},
   "outputs": [],
   "source": [
    "betaine = molecule(hydrogens=hydrogens, couplings=couplings)"
   ]
  },
  {
   "cell_type": "code",
   "execution_count": 210,
   "metadata": {},
   "outputs": [],
   "source": [
    "hydrogens = {\n",
    "    'a':(12, 10.0)}\n",
    "\n",
    "couplings = []"
   ]
  },
  {
   "cell_type": "code",
   "execution_count": 211,
   "metadata": {},
   "outputs": [],
   "source": [
    "TMS =  molecule(hydrogens=hydrogens, couplings=couplings)"
   ]
  },
  {
   "cell_type": "code",
   "execution_count": 212,
   "metadata": {},
   "outputs": [],
   "source": [
    "molecules = {\n",
    "    'A':(ethanol, 0.523),\n",
    "    'B':(lactate, 0.782),\n",
    "    'C':(betaine, 1.321),\n",
    "    'D':(TMS, 1.0)}"
   ]
  },
  {
   "cell_type": "code",
   "execution_count": 213,
   "metadata": {},
   "outputs": [],
   "source": [
    "nmr_sample = sample(molecules=molecules)"
   ]
  },
  {
   "cell_type": "code",
   "execution_count": 71,
   "metadata": {},
   "outputs": [
    {
     "data": {
      "text/plain": [
       "{'molecules': {'A': (<ftnmr.molecule at 0x7f411812f3d0>, 0.523),\n",
       "  'B': (<ftnmr.molecule at 0x7f411812f100>, 0.782),\n",
       "  'C': (<ftnmr.molecule at 0x7f411812f310>, 1.321),\n",
       "  'D': (<ftnmr.molecule at 0x7f410ca1c220>, 1.0)},\n",
       " 'T2': 100.0,\n",
       " 'r': 0.01,\n",
       " 'timeunit': 'msec'}"
      ]
     },
     "execution_count": 71,
     "metadata": {},
     "output_type": "execute_result"
    }
   ],
   "source": [
    "nmr_sample.__dict__"
   ]
  },
  {
   "cell_type": "code",
   "execution_count": 72,
   "metadata": {},
   "outputs": [
    {
     "data": {
      "text/plain": [
       "{'A': (<ftnmr.molecule at 0x7f411812f3d0>, 0.523),\n",
       " 'B': (<ftnmr.molecule at 0x7f411812f100>, 0.782),\n",
       " 'C': (<ftnmr.molecule at 0x7f411812f310>, 1.321),\n",
       " 'D': (<ftnmr.molecule at 0x7f410ca1c220>, 1.0)}"
      ]
     },
     "execution_count": 72,
     "metadata": {},
     "output_type": "execute_result"
    }
   ],
   "source": [
    "molecules"
   ]
  },
  {
   "cell_type": "code",
   "execution_count": 73,
   "metadata": {},
   "outputs": [
    {
     "data": {
      "text/plain": [
       "{'a': (3, 1.1), 'b': (2, 3.6), 'c': (1, 3.25)}"
      ]
     },
     "execution_count": 73,
     "metadata": {},
     "output_type": "execute_result"
    }
   ],
   "source": [
    "nmr_sample.molecules['A'][0].hydrogens"
   ]
  },
  {
   "cell_type": "code",
   "execution_count": 74,
   "metadata": {},
   "outputs": [
    {
     "data": {
      "text/plain": [
       "{'a': (array([-5.,  0.,  5.]), array([0.25, 0.5 , 0.25])),\n",
       " 'b': (array([-7.5, -2.5,  2.5,  7.5]), array([0.125, 0.375, 0.375, 0.125]))}"
      ]
     },
     "execution_count": 74,
     "metadata": {},
     "output_type": "execute_result"
    }
   ],
   "source": [
    "# number of 'a' group hydrogens of 'A' molecule of the sample\n",
    "nmr_sample.molecules['A'][0].splits"
   ]
  },
  {
   "cell_type": "code",
   "execution_count": 75,
   "metadata": {},
   "outputs": [
    {
     "data": {
      "text/plain": [
       "1.1"
      ]
     },
     "execution_count": 75,
     "metadata": {},
     "output_type": "execute_result"
    }
   ],
   "source": [
    "# chemical shift of 'a' group hydrogens of 'A' molecule of the sample\n",
    "nmr_sample.molecules['A'][0].hydrogens['a'][1]"
   ]
  },
  {
   "cell_type": "code",
   "execution_count": 76,
   "metadata": {},
   "outputs": [],
   "source": [
    "RH = 12"
   ]
  },
  {
   "cell_type": "code",
   "execution_count": 77,
   "metadata": {},
   "outputs": [],
   "source": [
    "moles = nmr_sample.molecules"
   ]
  },
  {
   "cell_type": "code",
   "execution_count": 79,
   "metadata": {},
   "outputs": [
    {
     "data": {
      "text/plain": [
       "{'hydrogens': {'a': (3, 1.1), 'b': (2, 3.6), 'c': (1, 3.25)},\n",
       " 'couplings': [('a', 'b', 5.0)],\n",
       " 'splits': {'a': (array([-5.,  0.,  5.]), array([0.25, 0.5 , 0.25])),\n",
       "  'b': (array([-7.5, -2.5,  2.5,  7.5]), array([0.125, 0.375, 0.375, 0.125]))}}"
      ]
     },
     "execution_count": 79,
     "metadata": {},
     "output_type": "execute_result"
    }
   ],
   "source": [
    "moles['A'][0].__dict__"
   ]
  },
  {
   "cell_type": "code",
   "execution_count": 80,
   "metadata": {},
   "outputs": [],
   "source": [
    "test1 = {\n",
    "    f'{x}_{y}{0.0:+}': (\n",
    "        pow(10, -6)*moles[x][0].hydrogens[y][1]*gamma*B,\n",
    "        moles[x][1]*moles[x][0].hydrogens[y][0]/RH)\n",
    "    for x in moles for y in moles[x][0].hydrogens if y not in moles[x][0].splits}"
   ]
  },
  {
   "cell_type": "code",
   "execution_count": 81,
   "metadata": {},
   "outputs": [
    {
     "data": {
      "text/plain": [
       "{'A_c+0.0': (8694.471091799998, 0.043583333333333335),\n",
       " 'C_a+0.0': (10433.365310159998, 0.11008333333333332),\n",
       " 'C_b+0.0': (8694.471091799998, 0.9907499999999999),\n",
       " 'D_a+0.0': (0.0, 1.0)}"
      ]
     },
     "execution_count": 81,
     "metadata": {},
     "output_type": "execute_result"
    }
   ],
   "source": [
    "test1"
   ]
  },
  {
   "cell_type": "code",
   "execution_count": 82,
   "metadata": {},
   "outputs": [],
   "source": [
    "test2 = {\n",
    "    f'{x}_{y}{z:+}': (\n",
    "        pow(10, -6)*moles[x][0].hydrogens[y][1]*gamma*B + 2*np.pi*z,\n",
    "        moles[x][1]*moles[x][0].hydrogens[y][0]*k/RH)\n",
    "    for x in moles for y in moles[x][0].splits\n",
    "    for z, k in zip(moles[x][0].splits[y][0], moles[x][0].splits[y][1])}"
   ]
  },
  {
   "cell_type": "code",
   "execution_count": 134,
   "metadata": {},
   "outputs": [
    {
     "data": {
      "text/plain": [
       "0.01"
      ]
     },
     "execution_count": 134,
     "metadata": {},
     "output_type": "execute_result"
    }
   ],
   "source": [
    "nmr_sample.r"
   ]
  },
  {
   "cell_type": "code",
   "execution_count": 214,
   "metadata": {},
   "outputs": [],
   "source": [
    "spec = spectrometer()"
   ]
  },
  {
   "cell_type": "code",
   "execution_count": 215,
   "metadata": {},
   "outputs": [],
   "source": [
    "spec.measure(sample=nmr_sample)"
   ]
  },
  {
   "cell_type": "code",
   "execution_count": 169,
   "metadata": {},
   "outputs": [
    {
     "data": {
      "text/plain": [
       "18.34890245256755"
      ]
     },
     "execution_count": 169,
     "metadata": {},
     "output_type": "execute_result"
    }
   ],
   "source": [
    "1000/spec.f_s"
   ]
  },
  {
   "cell_type": "code",
   "execution_count": 161,
   "metadata": {},
   "outputs": [
    {
     "name": "stdout",
     "output_type": "stream",
     "text": [
      "416 µs ± 5.21 µs per loop (mean ± std. dev. of 7 runs, 1000 loops each)\n"
     ]
    }
   ],
   "source": [
    "%timeit np.fft.fft(spec.C[0])[:10]"
   ]
  },
  {
   "cell_type": "code",
   "execution_count": 162,
   "metadata": {},
   "outputs": [
    {
     "name": "stdout",
     "output_type": "stream",
     "text": [
      "421 µs ± 5.88 µs per loop (mean ± std. dev. of 7 runs, 1000 loops each)\n"
     ]
    }
   ],
   "source": [
    "%timeit np.fft.fft(spec.C[0])"
   ]
  },
  {
   "cell_type": "code",
   "execution_count": 216,
   "metadata": {},
   "outputs": [],
   "source": [
    "S = np.fft.fft(spec.C[4])"
   ]
  },
  {
   "cell_type": "code",
   "execution_count": 217,
   "metadata": {},
   "outputs": [
    {
     "name": "stdout",
     "output_type": "stream",
     "text": [
      "8.694471091799999 0.043583333333333335\n",
      "10.433365310159997 0.11008333333333332\n",
      "8.694471091799999 0.9907499999999999\n",
      "26.752218743999993 1.0\n",
      "2.911328135304102 0.032687499999999994\n",
      "2.9427440618399996 0.06537499999999999\n",
      "2.9741599883758973 0.032687499999999994\n",
      "9.58367485803615 0.010895833333333334\n",
      "9.615090784572049 0.032687499999999994\n",
      "9.646506711107948 0.032687499999999994\n",
      "9.677922637643846 0.010895833333333334\n",
      "3.455797288144871 0.09775\n",
      "3.499779585295128 0.09775\n",
      "10.902436239314612 0.008145833333333333\n",
      "10.946418536464869 0.0244375\n",
      "10.990400833615126 0.0244375\n",
      "11.034383130765383 0.008145833333333333\n"
     ]
    }
   ],
   "source": [
    "for w, N in spec.A:\n",
    "    print(w, N)"
   ]
  },
  {
   "cell_type": "code",
   "execution_count": 221,
   "metadata": {},
   "outputs": [
    {
     "data": {
      "text/plain": [
       "[<matplotlib.lines.Line2D at 0x7f410973a3d0>]"
      ]
     },
     "execution_count": 221,
     "metadata": {},
     "output_type": "execute_result"
    },
    {
     "data": {
      "image/png": "[encoded data removed]",
      "text/plain": [
       "<Figure size 432x288 with 1 Axes>"
      ]
     },
     "metadata": {
      "needs_background": "light"
     },
     "output_type": "display_data"
    }
   ],
   "source": [
    "plt.plot(range(len(S))[250:330], S.real[250:330])"
   ]
  },
  {
   "cell_type": "code",
   "execution_count": 209,
   "metadata": {},
   "outputs": [
    {
     "data": {
      "text/plain": [
       "[(8.694471091799999, 0.043583333333333335),\n",
       " (10.433365310159997, 0.11008333333333332),\n",
       " (8.694471091799999, 0.9907499999999999),\n",
       " (0.0, 1.0),\n",
       " (2.911328135304102, 0.032687499999999994),\n",
       " (2.9427440618399996, 0.06537499999999999),\n",
       " (2.9741599883758973, 0.032687499999999994),\n",
       " (9.58367485803615, 0.010895833333333334),\n",
       " (9.615090784572049, 0.032687499999999994),\n",
       " (9.646506711107948, 0.032687499999999994),\n",
       " (9.677922637643846, 0.010895833333333334),\n",
       " (3.455797288144871, 0.09775),\n",
       " (3.499779585295128, 0.09775),\n",
       " (10.902436239314612, 0.008145833333333333),\n",
       " (10.946418536464869, 0.0244375),\n",
       " (10.990400833615126, 0.0244375),\n",
       " (11.034383130765383, 0.008145833333333333)]"
      ]
     },
     "execution_count": 209,
     "metadata": {},
     "output_type": "execute_result"
    }
   ],
   "source": [
    "spec.A"
   ]
  },
  {
   "cell_type": "code",
   "execution_count": 198,
   "metadata": {},
   "outputs": [],
   "source": [
    "import inspect"
   ]
  },
  {
   "cell_type": "code",
   "execution_count": 206,
   "metadata": {},
   "outputs": [
    {
     "data": {
      "image/png": "[encoded data removed]",
      "text/plain": [
       "<Figure size 432x288 with 1 Axes>"
      ]
     },
     "metadata": {
      "needs_background": "light"
     },
     "output_type": "display_data"
    }
   ],
   "source": [
    "plt.plot(range(len(S)), 1_000_000*spec.C[4].real)\n",
    "plt.ticklabel_format(style='plain')"
   ]
  },
  {
   "cell_type": "code",
   "execution_count": 207,
   "metadata": {},
   "outputs": [
    {
     "data": {
      "image/png": "[encoded data removed]",
      "text/plain": [
       "<Figure size 432x288 with 1 Axes>"
      ]
     },
     "metadata": {
      "needs_background": "light"
     },
     "output_type": "display_data"
    }
   ],
   "source": [
    "plt.plot(range(500), 1_000_000*spec.C[4].real[-500:])\n",
    "plt.ticklabel_format(style='plain')"
   ]
  },
  {
   "cell_type": "code",
   "execution_count": 309,
   "metadata": {},
   "outputs": [],
   "source": [
    "w = pow(10, -6)*shift*gamma*B"
   ]
  },
  {
   "cell_type": "code",
   "execution_count": 310,
   "metadata": {},
   "outputs": [
    {
     "data": {
      "text/plain": [
       "26752.21874399999"
      ]
     },
     "execution_count": 310,
     "metadata": {},
     "output_type": "execute_result"
    }
   ],
   "source": [
    "w"
   ]
  },
  {
   "cell_type": "code",
   "execution_count": 311,
   "metadata": {},
   "outputs": [],
   "source": [
    "f0 = 0.5*w/np.pi"
   ]
  },
  {
   "cell_type": "code",
   "execution_count": 312,
   "metadata": {},
   "outputs": [
    {
     "data": {
      "text/plain": [
       "4257.747851783254"
      ]
     },
     "execution_count": 312,
     "metadata": {},
     "output_type": "execute_result"
    }
   ],
   "source": [
    "f0"
   ]
  },
  {
   "cell_type": "code",
   "execution_count": 86,
   "metadata": {},
   "outputs": [],
   "source": [
    "a0 = [1, 2, 3, 4]\n",
    "b0 = [4, 3, 2, 1]\n",
    "a1 = [1, 2, 3, 4]\n",
    "b1 = [4, 3, 2, 1]\n",
    "a2 = [1, 2, 3, 4]\n",
    "b2 = [4, 3, 2, 1]\n",
    "a3 = [1, 2, 3, 4]\n",
    "b3 = [4, 3, 2, 1]\n",
    "A = [a0, b0, a1, b1, a2, b2, a3, b3]"
   ]
  },
  {
   "cell_type": "code",
   "execution_count": 87,
   "metadata": {},
   "outputs": [
    {
     "data": {
      "text/plain": [
       "array([20, 20, 20, 20])"
      ]
     },
     "execution_count": 87,
     "metadata": {},
     "output_type": "execute_result"
    }
   ],
   "source": [
    "np.sum(A,axis=0) # or axis=1"
   ]
  },
  {
   "cell_type": "code",
   "execution_count": 37,
   "metadata": {},
   "outputs": [],
   "source": [
    "class foo():\n",
    "    aa = 123123\n",
    "    def __init__(self):\n",
    "        self.b = self.aa"
   ]
  },
  {
   "cell_type": "code",
   "execution_count": 39,
   "metadata": {},
   "outputs": [],
   "source": [
    "babo = foo()"
   ]
  },
  {
   "cell_type": "code",
   "execution_count": null,
   "metadata": {},
   "outputs": [],
   "source": []
  }
 ],
 "metadata": {
  "kernelspec": {
   "display_name": "Python 3",
   "language": "python",
   "name": "python3"
  },
  "language_info": {
   "codemirror_mode": {
    "name": "ipython",
    "version": 3
   },
   "file_extension": ".py",
   "mimetype": "text/x-python",
   "name": "python",
   "nbconvert_exporter": "python",
   "pygments_lexer": "ipython3",
   "version": "3.8.3"
  }
 },
 "nbformat": 4,
 "nbformat_minor": 4
}
