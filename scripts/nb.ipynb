{
 "cells": [
  {
   "cell_type": "code",
   "execution_count": 1,
   "metadata": {},
   "outputs": [],
   "source": [
    "%matplotlib inline"
   ]
  },
  {
   "cell_type": "code",
   "execution_count": 2,
   "metadata": {},
   "outputs": [],
   "source": [
    "%load_ext autoreload"
   ]
  },
  {
   "cell_type": "code",
   "execution_count": 3,
   "metadata": {},
   "outputs": [],
   "source": [
    "%autoreload 2"
   ]
  },
  {
   "cell_type": "code",
   "execution_count": 4,
   "metadata": {},
   "outputs": [],
   "source": [
    "import numpy as np\n",
    "import matplotlib.pyplot as plt\n",
    "import scipy"
   ]
  },
  {
   "cell_type": "code",
   "execution_count": 5,
   "metadata": {},
   "outputs": [],
   "source": [
    "from ftnmr import *"
   ]
  },
  {
   "cell_type": "code",
   "execution_count": 6,
   "metadata": {},
   "outputs": [],
   "source": [
    "molecules = []"
   ]
  },
  {
   "cell_type": "markdown",
   "metadata": {},
   "source": [
    "Hydrogens and their frequencies and ratios"
   ]
  },
  {
   "cell_type": "code",
   "execution_count": 345,
   "metadata": {},
   "outputs": [],
   "source": [
    "b0 = 0.3\n",
    "b1 = 0.1 + 0.2"
   ]
  },
  {
   "cell_type": "code",
   "execution_count": 346,
   "metadata": {},
   "outputs": [
    {
     "data": {
      "text/plain": [
       "True"
      ]
     },
     "execution_count": 346,
     "metadata": {},
     "output_type": "execute_result"
    }
   ],
   "source": [
    "np.isclose(b0, b1)"
   ]
  },
  {
   "cell_type": "code",
   "execution_count": 66,
   "metadata": {},
   "outputs": [],
   "source": [
    "from string import ascii_lowercase as asc"
   ]
  },
  {
   "cell_type": "code",
   "execution_count": 7,
   "metadata": {},
   "outputs": [],
   "source": [
    "from scipy.special import binom"
   ]
  },
  {
   "cell_type": "code",
   "execution_count": 221,
   "metadata": {},
   "outputs": [],
   "source": [
    "A = {\n",
    "    'a':(1, 2.3),\n",
    "    'b':(1, 3.3),\n",
    "    'c':(3, 4.5)}\n",
    "\n",
    "j1 = ('a', 'b', 3.200)\n",
    "j2 = ('b', 'c', 3.200)\n",
    "B = [j1, j2]"
   ]
  },
  {
   "cell_type": "code",
   "execution_count": 222,
   "metadata": {},
   "outputs": [
    {
     "name": "stdout",
     "output_type": "stream",
     "text": [
      "{'a': [], 'b': [], 'c': []}\n"
     ]
    },
    {
     "data": {
      "text/plain": [
       "{'a': [(3.2, 1)], 'b': [(3.2, 1), (3.2, 3)], 'c': [(3.2, 1)]}"
      ]
     },
     "execution_count": 222,
     "metadata": {},
     "output_type": "execute_result"
    }
   ],
   "source": [
    "C = {a:[] for a in A}\n",
    "print(C)\n",
    "\n",
    "for k in A:\n",
    "    for b in B:\n",
    "        if k == b[0]: C[k].append((b[2], A[b[1]][0]))\n",
    "        elif k == b[1]: C[k].append((b[2], A[b[0]][0]))\n",
    "\n",
    "C"
   ]
  },
  {
   "cell_type": "code",
   "execution_count": 341,
   "metadata": {},
   "outputs": [
    {
     "data": {
      "text/plain": [
       "0.30000000000000004"
      ]
     },
     "execution_count": 341,
     "metadata": {},
     "output_type": "execute_result"
    }
   ],
   "source": [
    "0.1 + 0.2"
   ]
  },
  {
   "cell_type": "code",
   "execution_count": 272,
   "metadata": {},
   "outputs": [
    {
     "name": "stdout",
     "output_type": "stream",
     "text": [
      "{'a': ([], []), 'b': ([], []), 'c': ([], [])}\n"
     ]
    },
    {
     "data": {
      "text/plain": [
       "{'a': ([array([-1.6,  1.6])], [array([0.5, 0.5])]),\n",
       " 'b': ([array([-1.6,  1.6]), array([-4.8, -1.6,  1.6,  4.8])],\n",
       "  [array([0.5, 0.5]), array([0.125, 0.375, 0.375, 0.125])]),\n",
       " 'c': ([array([-1.6,  1.6])], [array([0.5, 0.5])])}"
      ]
     },
     "execution_count": 272,
     "metadata": {},
     "output_type": "execute_result"
    }
   ],
   "source": [
    "F = {a:([], []) for a in A}\n",
    "print(F)\n",
    "\n",
    "for k in A:\n",
    "    for b, d in C[k]:\n",
    "        F[k][0].append( np.array([n*b/2 for n in range(-d, d+1, 2)]) )\n",
    "        F[k][1].append( np.array([binom(d, x)/pow(2,d) for x in range(0, d+1)]))\n",
    "\n",
    "F"
   ]
  },
  {
   "cell_type": "code",
   "execution_count": 149,
   "metadata": {},
   "outputs": [],
   "source": [
    "from itertools import product"
   ]
  },
  {
   "cell_type": "code",
   "execution_count": 303,
   "metadata": {},
   "outputs": [
    {
     "data": {
      "text/plain": [
       "{'a': (array([-1.6,  1.6]), array([0.5, 0.5])),\n",
       " 'b': (array([-6.4, -3.2,  0. ,  3.2, -3.2,  0. ,  3.2,  6.4]),\n",
       "  array([0.0625, 0.1875, 0.1875, 0.0625, 0.0625, 0.1875, 0.1875, 0.0625])),\n",
       " 'c': (array([-1.6,  1.6]), array([0.5, 0.5]))}"
      ]
     },
     "execution_count": 303,
     "metadata": {},
     "output_type": "execute_result"
    }
   ],
   "source": [
    "G = {a:([], []) for a in A}\n",
    "\n",
    "for k in A:\n",
    "    for i in product(*F[k][0]):\n",
    "        G[k][0].append(sum(i))\n",
    "        \n",
    "    for i in product(*F[k][1]):\n",
    "        G[k][1].append(np.prod(i))\n",
    "\n",
    "H = {k:(np.array(G[k][0]), np.array(G[k][1])) for k in A}\n",
    "H"
   ]
  },
  {
   "cell_type": "code",
   "execution_count": 335,
   "metadata": {},
   "outputs": [
    {
     "data": {
      "text/plain": [
       "{'a': (array([-1.6,  1.6]), array([0.5, 0.5])),\n",
       " 'b': (array([-6.4, -3.2, -3.2,  0. ,  0. ,  3.2,  3.2,  6.4]),\n",
       "  array([0.0625, 0.0625, 0.1875, 0.1875, 0.1875, 0.1875, 0.0625, 0.0625])),\n",
       " 'c': (array([-1.6,  1.6]), array([0.5, 0.5]))}"
      ]
     },
     "execution_count": 335,
     "metadata": {},
     "output_type": "execute_result"
    }
   ],
   "source": [
    "I = {k:([],[]) for k in A}\n",
    "\n",
    "for k in A:\n",
    "    for n in np.argsort(H[k][0]):\n",
    "        I[k][0].append(H[k][0][n])\n",
    "        I[k][1].append(H[k][1][n])\n",
    "\n",
    "J = {k:(np.array(I[k][0]), np.array(I[k][1])) for k in A}\n",
    "J"
   ]
  },
  {
   "cell_type": "code",
   "execution_count": 352,
   "metadata": {},
   "outputs": [
    {
     "data": {
      "text/plain": [
       "False"
      ]
     },
     "execution_count": 352,
     "metadata": {},
     "output_type": "execute_result"
    }
   ],
   "source": [
    "np.isclose(1.23456, 1.23453)"
   ]
  },
  {
   "cell_type": "code",
   "execution_count": 353,
   "metadata": {},
   "outputs": [],
   "source": [
    "K = {k:([],[]) for k in A}\n",
    "\n",
    "for k in A:\n",
    "    K[k][0].append(J[k][0][0])\n",
    "    K[k][1].append(J[k][1][0])\n",
    "\n",
    "for k in A:\n",
    "    for i in range(1, len(J[k][0])):\n",
    "        if np.isclose(K[k][0][-1], J[k][0][i]):\n",
    "            K[k][1][-1] += J[k][1][i]\n",
    "        else:\n",
    "            K[k][0].append(J[k][0][i])\n",
    "            K[k][1].append(J[k][1][i])"
   ]
  },
  {
   "cell_type": "code",
   "execution_count": 357,
   "metadata": {},
   "outputs": [
    {
     "data": {
      "text/plain": [
       "1.0"
      ]
     },
     "execution_count": 357,
     "metadata": {},
     "output_type": "execute_result"
    }
   ],
   "source": [
    "sum(K['b'][1])"
   ]
  },
  {
   "cell_type": "markdown",
   "metadata": {},
   "source": [
    "Molecule construction"
   ]
  },
  {
   "cell_type": "code",
   "execution_count": 213,
   "metadata": {},
   "outputs": [],
   "source": [
    "a = ('a', 6, 2.3)\n",
    "b = ('b', 4, 3.4)\n",
    "c = ('c', 2, 4.5)\n",
    "A = [a, b, c]\n",
    "\n",
    "j1 = ('a', 'b', 3.300)\n",
    "j2 = ('b', 'c', 3.000)\n",
    "B = [j1, j2]"
   ]
  },
  {
   "cell_type": "code",
   "execution_count": 222,
   "metadata": {},
   "outputs": [],
   "source": [
    "class molecule():\n",
    "    def __init__(\n",
    "        self,\n",
    "        A: list,\n",
    "        B: list):\n",
    "        self.A = A\n",
    "        self.B = B"
   ]
  },
  {
   "cell_type": "code",
   "execution_count": 223,
   "metadata": {},
   "outputs": [],
   "source": [
    "a = molecule(A=[1, 2, 3], B=2)"
   ]
  },
  {
   "cell_type": "code",
   "execution_count": 230,
   "metadata": {},
   "outputs": [],
   "source": [
    "def add(x: int, y: int) -> int:\n",
    "    return x + y"
   ]
  },
  {
   "cell_type": "code",
   "execution_count": 231,
   "metadata": {},
   "outputs": [
    {
     "data": {
      "text/plain": [
       "6"
      ]
     },
     "execution_count": 231,
     "metadata": {},
     "output_type": "execute_result"
    }
   ],
   "source": [
    "add(2, 4)"
   ]
  },
  {
   "cell_type": "code",
   "execution_count": 234,
   "metadata": {},
   "outputs": [],
   "source": [
    "num: str = add('bab', 'o')"
   ]
  },
  {
   "cell_type": "code",
   "execution_count": 235,
   "metadata": {},
   "outputs": [
    {
     "data": {
      "text/plain": [
       "'babo'"
      ]
     },
     "execution_count": 235,
     "metadata": {},
     "output_type": "execute_result"
    }
   ],
   "source": [
    "num"
   ]
  },
  {
   "cell_type": "code",
   "execution_count": null,
   "metadata": {},
   "outputs": [],
   "source": []
  }
 ],
 "metadata": {
  "kernelspec": {
   "display_name": "Python 3",
   "language": "python",
   "name": "python3"
  },
  "language_info": {
   "codemirror_mode": {
    "name": "ipython",
    "version": 3
   },
   "file_extension": ".py",
   "mimetype": "text/x-python",
   "name": "python",
   "nbconvert_exporter": "python",
   "pygments_lexer": "ipython3",
   "version": "3.8.3"
  }
 },
 "nbformat": 4,
 "nbformat_minor": 4
}
